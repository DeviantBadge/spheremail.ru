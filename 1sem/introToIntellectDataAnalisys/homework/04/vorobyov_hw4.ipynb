{
 "cells": [
  {
   "cell_type": "markdown",
   "metadata": {},
   "source": [
    "# Алгоритмы интеллектуальной обработки больших объемов данных\n",
    "## Домашнее задание №4 - Метод k-средних, предобработка признаков\n"
   ]
  },
  {
   "cell_type": "markdown",
   "metadata": {},
   "source": [
    "###### <hr\\>\n",
    "**Общая информация**\n",
    "\n",
    "**Срок сдачи:** 28 ноября 2018, 06:00 <br\\>\n",
    "**Штраф за опоздание:** -2 балла после 06:00 28 ноября, -4 балла после 06:00 5 декабря, -6 баллов после 06:00 12 декабря, -8 баллов после 19 декабря\n",
    "\n",
    "При отправлении ДЗ указывайте фамилию в названии файла\n",
    "Присылать ДЗ необходимо в виде ссылки на свой github репозиторий в slack @alkhamush\n",
    "\n",
    "Необходимо в slack создать таск в приватный чат:\n",
    "/todo Фамилия Имя ссылка на гитхаб @alkhamush\n",
    "Пример:\n",
    "/todo Ксения Стройкова https://github.com/stroykova/spheremailru/stroykova_hw1.ipynb @alkhamush\n",
    "Дополнительно нужно просто скинуть ссылку в slack в личный чат\n",
    "\n",
    "Используйте данный Ipython Notebook при оформлении домашнего задания."
   ]
  },
  {
   "cell_type": "markdown",
   "metadata": {},
   "source": [
    "# Имплементация K-means\n",
    "\n",
    "Пользуясь наработками выше, имплементируйте метод k-means.  \n",
    "При инициализации необходимо задавать количество кластеров, функцию расстояния между кластерами (для оригинального k-means - евклидово расстояние) и начальное состояние генератора случайных чисел.\n",
    "\n",
    "После обучения, среди атрибутов класса `Kmeans` должны появится\n",
    "* Метки кластеров для объектов\n",
    "* Координаты центройдов кластеров\n",
    "\n",
    "k-means - это алгоритм **кластеризации**, а не классификации, а посему метод `.predict()` в нем фактически не нужен, но он может возвращать метки ближайшего кластера для объектов."
   ]
  },
  {
   "cell_type": "markdown",
   "metadata": {},
   "source": [
    "###### Задание 1 (2 баллов)\n",
    "Имплементируйте метод k-means. Задание считается выполненным, если Ваша реализация работает быстрее реализации из sklearn.\n",
    "\n",
    "Теория для выполнения задания 2 и 3 остаётся на самостоятельное изучение. Теории немного и она совсем простая.\n",
    "\n",
    "###### Задание 2 (2 балла)\n",
    "Имплементируйте класс MiniBatchKMeans, который является классом наследником Kmeans.\n",
    "\n",
    "###### Задание 3 (2 балла)\n",
    "Превратите k-means в k-means++. Для этого нужно реализовать метод в классе Kmeans, который будет инициализировать более \"хорошие\" значения центроидов. Чтобы использовался метод k-means++, в параметр init необходимо передать строковое значение 'k-means' (по умолчанию 'random').\n",
    "\n",
    "###### Задание 4 (2 балла)\n",
    "В пункте \"Проверка корректности метода\" нужно нарисовать графики, которые показывают зависимость времени выполнения алгоритма от количества сэмплов. Графики должны быть  нарисованы для различных комбинаций реализаций алгоритма (k-means, k-means++, k-means с MiniBatchKMeans, k-means++ с MiniBatchKMeans). График достаточно построить на 5-10 точках.\n",
    "\n",
    "###### Задание 5 (2 балла)\n",
    "В пункте \"Применение K-means на реальных данных\" нужно сравнить различные реализации k-means (k-means, k-means++, k-means с MiniBatchKMeans, k-means++ с MiniBatchKMeans). После чего написать вывод, в котором должно быть объяснение того, почему один алгоритм оказался лучше остальных или почему не было выявлено лучшего алгоритма.\n",
    "\n",
    "**Штрафные баллы:**\n",
    "\n",
    "1. Невыполнение PEP8 -1 балл\n",
    "2. Отсутствие фамилии в имени скрипта (скрипт должен называться по аналогии со stroykova_hw4.ipynb) -1 балл\n",
    "3. Все строчки должны быть выполнены. Нужно, чтобы output команды можно было увидеть уже в git'е. В противном случае -1 балл\n",
    "4. При оформлении ДЗ нужно пользоваться данным файлом в качестве шаблона. Не нужно удалять и видоизменять написанный код и текст. В противном случае -1 балл\n",
    "<hr\\>"
   ]
  },
  {
   "cell_type": "code",
   "execution_count": 1,
   "metadata": {},
   "outputs": [],
   "source": [
    "import pandas as pd\n",
    "import numpy as np\n",
    "import matplotlib.pyplot as plt\n",
    "import random\n",
    "import time\n",
    "\n",
    "from sklearn.cluster import KMeans\n",
    "from sklearn import metrics\n",
    "\n",
    "%matplotlib inline\n",
    "\n",
    "plt.style.use('ggplot')\n",
    "plt.rcParams['figure.figsize'] = (12,5)\n",
    "np.set_printoptions(formatter={\"float_kind\": lambda x: \"%0.2f\" % x})\n",
    "\n",
    "# %load_ext pycodestyle_magic"
   ]
  },
  {
   "cell_type": "code",
   "execution_count": 2,
   "metadata": {},
   "outputs": [],
   "source": [
    "# %%pycodestyle\n",
    "\n",
    "class MyKmeans:\n",
    "\n",
    "    def __init__(self,\n",
    "                 k=2,\n",
    "                 metric='euclidean',\n",
    "                 max_iter=1000,\n",
    "                 random_state=None,\n",
    "                 init='random',\n",
    "                 eps=0.001):\n",
    "        '''\n",
    "        Инициализация метода\n",
    "        :k - количество кластеров\n",
    "        :metric - функция расстояния между объектами\n",
    "        :max_iter - максиальное количество итераций\n",
    "        :random_state - seed для инициализации генератора случайных чисел\n",
    "        '''\n",
    "\n",
    "        self.k = k\n",
    "        self.random_state = random_state\n",
    "        self.metric = metric\n",
    "        self.max_iter = max_iter\n",
    "        self.init = init\n",
    "        self.metric = metric\n",
    "        self.labels = None\n",
    "        self.centroids = None\n",
    "        self.inertia_ = None\n",
    "        self.eps = eps\n",
    "\n",
    "    def fit(self, X, count_inertia=False):\n",
    "        # Инициализация генератора случайных чисел\n",
    "        np.random.seed(self.random_state)\n",
    "        # Массив с метками кластеров для каждого объекта из X\n",
    "        # Массив с центройдами кластеров\n",
    "        self.labels = np.empty(X.shape[0])\n",
    "        self.centroids = np.empty((self.k, X.shape[1]))\n",
    "\n",
    "        self._init_centroids(self.init, X)\n",
    "        tmp_intervals = np.max(X, axis=0) - np.min(X, axis=0)\n",
    "\n",
    "        for _ in range(self.max_iter):\n",
    "            dist = metrics.pairwise_distances(X, self.centroids, metric=self.metric)\n",
    "            self.labels = np.argmin(dist, axis=1)\n",
    "            dif = np.empty(self.k)\n",
    "\n",
    "            for i in range(self.k):\n",
    "                tmp = np.mean(X[self.labels == i, :], axis=0)\n",
    "                dif[i] = (np.abs(self.centroids[i] - tmp) /\n",
    "                          tmp_intervals\n",
    "                          ).sum()\n",
    "                self.centroids[i] = tmp\n",
    "            dif /= X.shape[1]\n",
    "            if np.all(dif <= self.eps):\n",
    "                break\n",
    "\n",
    "        if count_inertia:\n",
    "            self.inertia_ = 0\n",
    "            for i in range(self.k):\n",
    "                tmp = np.abs(X[self.labels == i] - self.centroids[i])\n",
    "                self.inertia_ += (tmp * tmp).sum()\n",
    "\n",
    "        return self\n",
    "\n",
    "    def predict(self, X):\n",
    "        '''\n",
    "        Процедура предсказания кластера\n",
    "        Возвращает метку ближайшего кластера для каждого объекта\n",
    "        '''\n",
    "        dist = metrics.pairwise_distances(X, self.centroids, metric=self.metric)\n",
    "        return np.argmin(dist, axis=1)\n",
    "\n",
    "    def _init_centroids(self, method, X):\n",
    "        if method == 'random':\n",
    "            centroids_indicies = np.random.choice(np.arange(X.shape[0]),\n",
    "                                                  size=self.k,\n",
    "                                                  replace=False\n",
    "                                                  )\n",
    "            self.centroids = X[centroids_indicies]\n",
    "\n",
    "        elif method == 'k-means++':\n",
    "\n",
    "            self.centroids[0, :] = X[np.random.randint(low=0, high=X.shape[0])]\n",
    "            for i in range(1, self.k):\n",
    "                dist = metrics.pairwise_distances(X, self.centroids, metric=self.metric)\n",
    "                min_dist = np.min(dist[:, :i], axis=1)\n",
    "                centr_sum = np.random.uniform(0, min_dist.sum())\n",
    "                sums = np.cumsum(min_dist)\n",
    "                self.centroids[i, :] = random.choice(X[sums > centr_sum])\n",
    "        else:\n",
    "            assert 'init not Implemented'\n",
    "\n",
    "\n",
    "class MyMiniBatchKMeans(MyKmeans):\n",
    "    def __init__(self,\n",
    "                 k=2,\n",
    "                 metric='euclidean',\n",
    "                 max_iter=1000,\n",
    "                 random_state=None,\n",
    "                 init='random',\n",
    "                 batch_size=0.4,\n",
    "                 eps=1\n",
    "                 ):\n",
    "        super().__init__(k,\n",
    "                         metric,\n",
    "                         max_iter,\n",
    "                         random_state,\n",
    "                         init,\n",
    "                         eps=eps\n",
    "                         )\n",
    "        self.batch_size = batch_size\n",
    "\n",
    "    def fit(self, X, count_inertia=False):\n",
    "        # Инициализация генератора случайных чисел\n",
    "        np.random.seed(self.random_state)\n",
    "\n",
    "        # Массив с метками кластеров для каждого объекта из X\n",
    "        # Массив с центройдами кластеров\n",
    "        self.labels = np.zeros(X.shape[0])\n",
    "        self.centroids = np.empty((self.k, X.shape[1]))\n",
    "\n",
    "        super()._init_centroids(self.init, X)\n",
    "\n",
    "        batch_sz = int(X.shape[0] * self.batch_size)\n",
    "\n",
    "        tmp_intervals = np.max(X, axis=0) - np.min(X, axis=0)\n",
    "        tmp_counter = np.zeros(self.k)\n",
    "\n",
    "        for j in range(self.max_iter):\n",
    "            batch = np.random.randint(low=0, high=X.shape[0], size=batch_sz)\n",
    "            dist = metrics.pairwise_distances(X[batch], self.centroids, metric=self.metric)\n",
    "\n",
    "            tmp_labels = np.argmin(dist, axis=1)\n",
    "            dif = np.zeros(self.k)\n",
    "\n",
    "            for i in range(self.k):\n",
    "                k_labels = (tmp_labels == i)\n",
    "                if k_labels.sum() > 2:\n",
    "                    tmp_counter[i] += 1\n",
    "                    rate = 1 / tmp_counter[i]\n",
    "                    tmp = (1 - rate) * self.centroids[i] + \\\n",
    "                          rate * np.mean(X[batch][k_labels], axis=0)\n",
    "                    dif[i] = (np.abs(self.centroids[i] - tmp) / tmp_intervals).sum()\n",
    "                    self.centroids[i] = tmp\n",
    "            dif /= X.shape[1]\n",
    "            if np.all(dif < self.eps):\n",
    "                break\n",
    "\n",
    "        dist = metrics.pairwise_distances(X, self.centroids, metric=self.metric)\n",
    "        self.labels = np.argmin(dist, axis=1)\n",
    "\n",
    "        if count_inertia:\n",
    "            self.inertia_ = 0\n",
    "            for i in range(self.k):\n",
    "                tmp = np.abs(X[self.labels == i] - self.centroids[i])\n",
    "                self.inertia_ += (tmp * tmp).sum()\n",
    "        return self"
   ]
  },
  {
   "cell_type": "markdown",
   "metadata": {},
   "source": [
    "### Проверка корректности метода\n",
    "\n",
    "Перед тем как применять алгоритм на реальных данных, нужно испытать его на простых \"игрушечных\" данных.\n",
    "\n",
    "Если алгоритм реализован правильно, то метод должен идеально разбивать на 3 кластера данные ниже. Проверьте это.\n",
    "\n",
    "ВНИМАНИЕ! Проверка должна быть осуществлена на всех реализациях, иначе реализация не будет зачтена!"
   ]
  },
  {
   "cell_type": "code",
   "execution_count": 3,
   "metadata": {},
   "outputs": [],
   "source": [
    "from sklearn.datasets import make_blobs"
   ]
  },
  {
   "cell_type": "code",
   "execution_count": 4,
   "metadata": {},
   "outputs": [],
   "source": [
    "X, y = make_blobs(n_samples=100, n_features=2, centers=3, cluster_std=1, \n",
    "           center_box=(-10.0, 10.0), shuffle=False, random_state=1234)"
   ]
  },
  {
   "cell_type": "code",
   "execution_count": 5,
   "metadata": {},
   "outputs": [
    {
     "data": {
      "text/plain": [
       "<matplotlib.collections.PathCollection at 0x21f4d0a2128>"
      ]
     },
     "execution_count": 5,
     "metadata": {},
     "output_type": "execute_result"
    },
    {
     "data": {
      "image/png": "[encoded data removed]",
      "text/plain": [
       "<Figure size 432x288 with 1 Axes>"
      ]
     },
     "metadata": {
      "needs_background": "light"
     },
     "output_type": "display_data"
    }
   ],
   "source": [
    "plt.scatter(X[:,0], X[:, 1], c=y)"
   ]
  },
  {
   "cell_type": "markdown",
   "metadata": {},
   "source": [
    "Проверьте Вашу имплементацию на простых данных (без этого пункта ДЗ не считается выполненным).   \n",
    "КОММЕНТАРИИ НЕ СТИРАТЬ!"
   ]
  },
  {
   "cell_type": "code",
   "execution_count": 6,
   "metadata": {},
   "outputs": [
    {
     "data": {
      "image/png": "[encoded data removed]",
      "text/plain": [
       "<Figure size 432x288 with 1 Axes>"
      ]
     },
     "metadata": {
      "needs_background": "light"
     },
     "output_type": "display_data"
    }
   ],
   "source": [
    "## Работоспособность MyKmeans\n",
    "my_kmeans = MyKmeans(k=3)\n",
    "my_kmeans.fit(X)\n",
    "plt.scatter(X[:,0], X[:, 1], c=y)\n",
    "_ = plt.scatter(my_kmeans.centroids[:,0], my_kmeans.centroids[:, 1], c='red')"
   ]
  },
  {
   "cell_type": "code",
   "execution_count": 10,
   "metadata": {},
   "outputs": [
    {
     "data": {
      "image/png": "[encoded data removed]",
      "text/plain": [
       "<Figure size 432x288 with 1 Axes>"
      ]
     },
     "metadata": {
      "needs_background": "light"
     },
     "output_type": "display_data"
    }
   ],
   "source": [
    "## Работоспособность MyKmeans++\n",
    "my_kmeans = MyKmeans(k=3, init='k-means++')\n",
    "my_kmeans.fit(X)\n",
    "plt.scatter(X[:,0], X[:, 1], c=y)\n",
    "_ = plt.scatter(my_kmeans.centroids[:,0], my_kmeans.centroids[:, 1], c='red')"
   ]
  },
  {
   "cell_type": "code",
   "execution_count": 11,
   "metadata": {},
   "outputs": [
    {
     "data": {
      "image/png": "[encoded data removed]",
      "text/plain": [
       "<Figure size 432x288 with 1 Axes>"
      ]
     },
     "metadata": {
      "needs_background": "light"
     },
     "output_type": "display_data"
    }
   ],
   "source": [
    "## Работоспособность MyKmeans с MiniBatchMyKmeans\n",
    "my_kmeans = MyMiniBatchKMeans(k=3)\n",
    "my_kmeans.fit(X)\n",
    "plt.scatter(X[:,0], X[:, 1], c=y)\n",
    "_ = plt.scatter(my_kmeans.centroids[:,0], my_kmeans.centroids[:, 1], c='red')"
   ]
  },
  {
   "cell_type": "code",
   "execution_count": 16,
   "metadata": {},
   "outputs": [
    {
     "data": {
      "image/png": "[encoded data removed]",
      "text/plain": [
       "<Figure size 432x288 with 1 Axes>"
      ]
     },
     "metadata": {
      "needs_background": "light"
     },
     "output_type": "display_data"
    }
   ],
   "source": [
    "## Работоспособность MyKmeans++ с MiniBatchMyKmeans\n",
    "my_kmeans = MyMiniBatchKMeans(k=3, init='k-means++')\n",
    "my_kmeans.fit(X)\n",
    "plt.scatter(X[:,0], X[:, 1], c=y)\n",
    "_ = plt.scatter(my_kmeans.centroids[:,0], my_kmeans.centroids[:, 1], c='red')"
   ]
  },
  {
   "cell_type": "code",
   "execution_count": 17,
   "metadata": {},
   "outputs": [
    {
     "name": "stdout",
     "output_type": "stream",
     "text": [
      "Wall time: 13 ms\n"
     ]
    }
   ],
   "source": [
    "## Время выполнения алгоритма Kmeans из sklearn\n",
    "kmeans = KMeans(n_clusters=3)\n",
    "%time _ = kmeans.fit(X)"
   ]
  },
  {
   "cell_type": "code",
   "execution_count": 18,
   "metadata": {},
   "outputs": [
    {
     "name": "stdout",
     "output_type": "stream",
     "text": [
      "Wall time: 1.04 ms\n"
     ]
    }
   ],
   "source": [
    "## Время выполнения алгоритма MyKmeans\n",
    "my_kmeans = MyKmeans(k=3)\n",
    "%time _ = my_kmeans.fit(X)"
   ]
  },
  {
   "cell_type": "code",
   "execution_count": 19,
   "metadata": {},
   "outputs": [
    {
     "name": "stdout",
     "output_type": "stream",
     "text": [
      "Wall time: 1.96 ms\n"
     ]
    }
   ],
   "source": [
    "## Время выполнения алгоритма MyKmeans++\n",
    "my_kmeans = MyKmeans(k=3, init='k-means++')\n",
    "%time _ = my_kmeans.fit(X)"
   ]
  },
  {
   "cell_type": "code",
   "execution_count": 20,
   "metadata": {},
   "outputs": [
    {
     "name": "stdout",
     "output_type": "stream",
     "text": [
      "Wall time: 989 µs\n"
     ]
    }
   ],
   "source": [
    "## Время выполнения алгоритма MyKmeans с MiniBatchMyKmeans\n",
    "my_kmeans = MyMiniBatchKMeans(k=3)\n",
    "%time _ = my_kmeans.fit(X)"
   ]
  },
  {
   "cell_type": "code",
   "execution_count": 21,
   "metadata": {
    "scrolled": true
   },
   "outputs": [
    {
     "name": "stdout",
     "output_type": "stream",
     "text": [
      "Wall time: 971 µs\n"
     ]
    }
   ],
   "source": [
    "## Время выполнения алгоритма  MyKmeans++ с MiniBatchMyKmeans\n",
    "my_kmeans = MyMiniBatchKMeans(k=3, init='k-means++')\n",
    "%time _ = my_kmeans.fit(X)"
   ]
  },
  {
   "cell_type": "code",
   "execution_count": 22,
   "metadata": {},
   "outputs": [],
   "source": [
    "## Проверка скорости работы\n",
    "iter_amount = 40\n",
    "sample_per_iter = 2000\n",
    "checks_per_iter = 20"
   ]
  },
  {
   "cell_type": "code",
   "execution_count": 23,
   "metadata": {},
   "outputs": [],
   "source": [
    "def time_measure(model, title):\n",
    "    exec_times = []\n",
    "    for i in range(1, iter_amount + 1):\n",
    "        iter_time = []\n",
    "        for j in range(checks_per_iter):\n",
    "            X, y = make_blobs(n_samples=i * sample_per_iter, n_features=2, centers=3, cluster_std=1, \n",
    "                              center_box=(-10.0, 10.0), shuffle=False, random_state=1234)\n",
    "            start_time = time.time()\n",
    "            model.fit(X)\n",
    "            iter_time.append(time.time() - start_time)\n",
    "        exec_times.append(np.mean(iter_time))\n",
    "    plt.title(title)\n",
    "    plt.xlabel('Samples amount')\n",
    "    plt.ylabel('Mean execution time, s')\n",
    "    _ = plt.plot(np.arange(1, iter_amount + 1) * sample_per_iter, exec_times, c='red')"
   ]
  },
  {
   "cell_type": "code",
   "execution_count": 24,
   "metadata": {},
   "outputs": [
    {
     "data": {
      "image/png": "[encoded data removed]",
      "text/plain": [
       "<Figure size 432x288 with 1 Axes>"
      ]
     },
     "metadata": {
      "needs_background": "light"
     },
     "output_type": "display_data"
    }
   ],
   "source": [
    "## Время выполнения алгоритма MyKmeans\n",
    "time_measure(MyKmeans(k=3), \"My k-means\")"
   ]
  },
  {
   "cell_type": "code",
   "execution_count": 26,
   "metadata": {},
   "outputs": [
    {
     "data": {
      "image/png": "[encoded data removed]",
      "text/plain": [
       "<Figure size 432x288 with 1 Axes>"
      ]
     },
     "metadata": {
      "needs_background": "light"
     },
     "output_type": "display_data"
    }
   ],
   "source": [
    "## Время выполнения алгоритма MyKmeans++\n",
    "time_measure(MyKmeans(k=3, init='k-means++'), \"My k-means++\")"
   ]
  },
  {
   "cell_type": "code",
   "execution_count": 27,
   "metadata": {},
   "outputs": [
    {
     "data": {
      "image/png": "[encoded data removed]",
      "text/plain": [
       "<Figure size 432x288 with 1 Axes>"
      ]
     },
     "metadata": {
      "needs_background": "light"
     },
     "output_type": "display_data"
    }
   ],
   "source": [
    "## Время выполнения алгоритма MyKmeans с MiniBatchMyKmeans\n",
    "time_measure(MyMiniBatchKMeans(k=3), \"My mini-batch k-means\")"
   ]
  },
  {
   "cell_type": "code",
   "execution_count": 28,
   "metadata": {},
   "outputs": [
    {
     "data": {
      "image/png": "[encoded data removed]",
      "text/plain": [
       "<Figure size 432x288 with 1 Axes>"
      ]
     },
     "metadata": {
      "needs_background": "light"
     },
     "output_type": "display_data"
    }
   ],
   "source": [
    "## Время выполнения алгоритма  MyKmeans++ с MiniBatchMyKmeans\n",
    "time_measure(MyMiniBatchKMeans(k=3, init='k-means++'), \"My mini-batch k-means++\")"
   ]
  },
  {
   "cell_type": "markdown",
   "metadata": {},
   "source": [
    "# Применение K-means на реальных данных"
   ]
  },
  {
   "cell_type": "markdown",
   "metadata": {},
   "source": [
    "Загрузите [данные](https://github.com/brenden17/sklearnlab/blob/master/facebook/snsdata.csv) в которых содержится описание интересов профилей учеников старшей школы США.  (без этого пункта задание не считается выполненным).   \n",
    "ВНИМАНИЕ! Проверка должна быть осуществлена на всех реализациях, иначе реализация не будет зачтена!"
   ]
  },
  {
   "cell_type": "code",
   "execution_count": 29,
   "metadata": {},
   "outputs": [
    {
     "data": {
      "text/html": [
       "<div>\n",
       "<style scoped>\n",
       "    .dataframe tbody tr th:only-of-type {\n",
       "        vertical-align: middle;\n",
       "    }\n",
       "\n",
       "    .dataframe tbody tr th {\n",
       "        vertical-align: top;\n",
       "    }\n",
       "\n",
       "    .dataframe thead th {\n",
       "        text-align: right;\n",
       "    }\n",
       "</style>\n",
       "<table border=\"1\" class=\"dataframe\">\n",
       "  <thead>\n",
       "    <tr style=\"text-align: right;\">\n",
       "      <th></th>\n",
       "      <th>basketball</th>\n",
       "      <th>football</th>\n",
       "      <th>soccer</th>\n",
       "      <th>softball</th>\n",
       "      <th>volleyball</th>\n",
       "      <th>swimming</th>\n",
       "      <th>cheerleading</th>\n",
       "      <th>baseball</th>\n",
       "      <th>tennis</th>\n",
       "      <th>sports</th>\n",
       "      <th>...</th>\n",
       "      <th>blonde</th>\n",
       "      <th>mall</th>\n",
       "      <th>shopping</th>\n",
       "      <th>clothes</th>\n",
       "      <th>hollister</th>\n",
       "      <th>abercrombie</th>\n",
       "      <th>die</th>\n",
       "      <th>death</th>\n",
       "      <th>drunk</th>\n",
       "      <th>drugs</th>\n",
       "    </tr>\n",
       "  </thead>\n",
       "  <tbody>\n",
       "    <tr>\n",
       "      <th>0</th>\n",
       "      <td>0</td>\n",
       "      <td>0</td>\n",
       "      <td>0</td>\n",
       "      <td>0</td>\n",
       "      <td>0</td>\n",
       "      <td>0</td>\n",
       "      <td>0</td>\n",
       "      <td>0</td>\n",
       "      <td>0</td>\n",
       "      <td>0</td>\n",
       "      <td>...</td>\n",
       "      <td>0</td>\n",
       "      <td>0</td>\n",
       "      <td>0</td>\n",
       "      <td>0</td>\n",
       "      <td>0</td>\n",
       "      <td>0</td>\n",
       "      <td>0</td>\n",
       "      <td>0</td>\n",
       "      <td>0</td>\n",
       "      <td>0</td>\n",
       "    </tr>\n",
       "    <tr>\n",
       "      <th>1</th>\n",
       "      <td>0</td>\n",
       "      <td>1</td>\n",
       "      <td>0</td>\n",
       "      <td>0</td>\n",
       "      <td>0</td>\n",
       "      <td>0</td>\n",
       "      <td>0</td>\n",
       "      <td>0</td>\n",
       "      <td>0</td>\n",
       "      <td>0</td>\n",
       "      <td>...</td>\n",
       "      <td>0</td>\n",
       "      <td>1</td>\n",
       "      <td>0</td>\n",
       "      <td>0</td>\n",
       "      <td>0</td>\n",
       "      <td>0</td>\n",
       "      <td>0</td>\n",
       "      <td>0</td>\n",
       "      <td>0</td>\n",
       "      <td>0</td>\n",
       "    </tr>\n",
       "    <tr>\n",
       "      <th>2</th>\n",
       "      <td>0</td>\n",
       "      <td>1</td>\n",
       "      <td>0</td>\n",
       "      <td>0</td>\n",
       "      <td>0</td>\n",
       "      <td>0</td>\n",
       "      <td>0</td>\n",
       "      <td>0</td>\n",
       "      <td>0</td>\n",
       "      <td>0</td>\n",
       "      <td>...</td>\n",
       "      <td>0</td>\n",
       "      <td>0</td>\n",
       "      <td>0</td>\n",
       "      <td>0</td>\n",
       "      <td>0</td>\n",
       "      <td>0</td>\n",
       "      <td>0</td>\n",
       "      <td>1</td>\n",
       "      <td>0</td>\n",
       "      <td>0</td>\n",
       "    </tr>\n",
       "    <tr>\n",
       "      <th>3</th>\n",
       "      <td>0</td>\n",
       "      <td>0</td>\n",
       "      <td>0</td>\n",
       "      <td>0</td>\n",
       "      <td>0</td>\n",
       "      <td>0</td>\n",
       "      <td>0</td>\n",
       "      <td>0</td>\n",
       "      <td>0</td>\n",
       "      <td>0</td>\n",
       "      <td>...</td>\n",
       "      <td>0</td>\n",
       "      <td>0</td>\n",
       "      <td>0</td>\n",
       "      <td>0</td>\n",
       "      <td>0</td>\n",
       "      <td>0</td>\n",
       "      <td>0</td>\n",
       "      <td>0</td>\n",
       "      <td>0</td>\n",
       "      <td>0</td>\n",
       "    </tr>\n",
       "    <tr>\n",
       "      <th>4</th>\n",
       "      <td>0</td>\n",
       "      <td>0</td>\n",
       "      <td>0</td>\n",
       "      <td>0</td>\n",
       "      <td>0</td>\n",
       "      <td>0</td>\n",
       "      <td>0</td>\n",
       "      <td>0</td>\n",
       "      <td>0</td>\n",
       "      <td>0</td>\n",
       "      <td>...</td>\n",
       "      <td>0</td>\n",
       "      <td>0</td>\n",
       "      <td>2</td>\n",
       "      <td>0</td>\n",
       "      <td>0</td>\n",
       "      <td>0</td>\n",
       "      <td>0</td>\n",
       "      <td>0</td>\n",
       "      <td>1</td>\n",
       "      <td>1</td>\n",
       "    </tr>\n",
       "  </tbody>\n",
       "</table>\n",
       "<p>5 rows × 36 columns</p>\n",
       "</div>"
      ],
      "text/plain": [
       "   basketball  football  soccer  softball  volleyball  swimming  cheerleading  \\\n",
       "0           0         0       0         0           0         0             0   \n",
       "1           0         1       0         0           0         0             0   \n",
       "2           0         1       0         0           0         0             0   \n",
       "3           0         0       0         0           0         0             0   \n",
       "4           0         0       0         0           0         0             0   \n",
       "\n",
       "   baseball  tennis  sports  ...    blonde  mall  shopping  clothes  \\\n",
       "0         0       0       0  ...         0     0         0        0   \n",
       "1         0       0       0  ...         0     1         0        0   \n",
       "2         0       0       0  ...         0     0         0        0   \n",
       "3         0       0       0  ...         0     0         0        0   \n",
       "4         0       0       0  ...         0     0         2        0   \n",
       "\n",
       "   hollister  abercrombie  die  death  drunk  drugs  \n",
       "0          0            0    0      0      0      0  \n",
       "1          0            0    0      0      0      0  \n",
       "2          0            0    0      1      0      0  \n",
       "3          0            0    0      0      0      0  \n",
       "4          0            0    0      0      1      1  \n",
       "\n",
       "[5 rows x 36 columns]"
      ]
     },
     "metadata": {},
     "output_type": "display_data"
    }
   ],
   "source": [
    "df_sns = pd.read_csv('snsdata.csv', sep=',')\n",
    "\n",
    "del df_sns['gradyear']\n",
    "del df_sns['gender']\n",
    "del df_sns['age']\n",
    "del df_sns['friends']\n",
    "\n",
    "display(df_sns.head())\n",
    "df_std = df_sns.std()\n",
    "df_mean = df_sns.mean()\n",
    "\n",
    "df_sns = (df_sns - df_sns.mean()) / df_sns.std()"
   ]
  },
  {
   "cell_type": "markdown",
   "metadata": {},
   "source": [
    "Данные устроены так: \n",
    "* Год выпуска\n",
    "* Пол\n",
    "* Возраст\n",
    "* Количество друзей\n",
    "* 36 ключевых слов, которые встречаются в профилe facebook (интересы, сообщества, встречи)"
   ]
  },
  {
   "cell_type": "markdown",
   "metadata": {},
   "source": [
    "* Удалите все признаки кроме 36 ключевых слов.\n",
    "* Нормализуйте данные - из каждого столбца вычтите его среднее значение и поделите на стандартное отклонение.\n",
    "* Используйте метод k-means чтобы выделить 9 кластеров\n",
    "* Попробуйте проинтерпретировать каждый кластер проанализировав полученные центройды (Некоторые кластеры могут быть очень большие и очень маленькие - плохо интерпретируются)   \n",
    "КОММЕНТАРИИ НЕ СТИРАТЬ!"
   ]
  },
  {
   "cell_type": "code",
   "execution_count": 30,
   "metadata": {},
   "outputs": [
    {
     "name": "stdout",
     "output_type": "stream",
     "text": [
      "Wall time: 255 ms\n"
     ]
    },
    {
     "data": {
      "text/plain": [
       "array([[0.38, 0.40, 0.24, 0.21, 0.27, 0.26, 0.31, 0.11, 0.16, 0.19, 0.60,\n",
       "        0.23, 0.20, 0.29, 0.13, 0.70, 0.18, 0.01, 0.91, 0.28, 0.47, 0.23,\n",
       "        0.10, 0.01, 0.91, 0.17, 0.22, 0.59, 0.91, 0.41, 1.51, 1.18, 0.21,\n",
       "        0.16, 0.11, 0.07],\n",
       "       [0.33, 0.27, 0.19, 0.18, 0.14, 0.17, 0.12, 0.08, 0.12, 0.13, 0.31,\n",
       "        0.19, 0.08, 0.13, 0.08, 0.42, 0.40, 0.03, 1.02, 0.31, 4.60, 2.28,\n",
       "        2.06, 0.91, 0.43, 0.13, 0.11, 0.20, 0.40, 0.17, 0.03, 0.02, 0.33,\n",
       "        0.25, 0.12, 0.07],\n",
       "       [0.18, 0.27, 0.09, 0.15, 0.09, 0.15, 0.06, 0.05, 0.09, 0.09, 0.27,\n",
       "        0.15, 0.11, 0.09, 0.07, 0.45, 4.05, 1.44, 1.21, 0.33, 0.52, 0.26,\n",
       "        0.10, 0.01, 0.36, 0.13, 0.07, 0.18, 0.30, 0.13, 0.01, 0.01, 0.17,\n",
       "        0.12, 0.06, 0.03],\n",
       "       [0.38, 0.34, 4.94, 0.14, 0.18, 0.19, 0.09, 0.10, 0.14, 0.28, 0.34,\n",
       "        0.14, 0.13, 0.16, 0.07, 0.39, 0.25, 0.01, 0.77, 0.30, 0.46, 0.30,\n",
       "        0.10, 0.02, 0.44, 0.10, 0.15, 0.26, 0.49, 0.13, 0.07, 0.04, 0.18,\n",
       "        0.10, 0.07, 0.05],\n",
       "       [0.13, 0.10, 0.08, 0.08, 0.08, 0.05, 0.05, 0.03, 0.03, 0.07, 0.15,\n",
       "        0.08, 0.07, 0.05, 0.03, 0.16, 0.13, 0.00, 0.43, 0.11, 0.27, 0.12,\n",
       "        0.06, 0.00, 0.15, 0.03, 0.04, 0.11, 0.16, 0.05, 0.02, 0.01, 0.08,\n",
       "        0.04, 0.04, 0.02],\n",
       "       [0.57, 0.50, 0.27, 0.30, 0.22, 0.28, 0.21, 0.22, 0.16, 0.53, 0.75,\n",
       "        2.84, 0.42, 0.25, 1.85, 0.96, 0.75, 0.04, 2.25, 1.08, 0.95, 0.41,\n",
       "        0.14, 0.03, 3.41, 0.37, 0.89, 0.69, 0.56, 0.77, 0.14, 0.14, 1.22,\n",
       "        0.46, 0.83, 1.14],\n",
       "       [0.32, 0.31, 0.15, 0.17, 0.20, 0.18, 0.37, 0.08, 0.08, 0.10, 1.18,\n",
       "        0.19, 0.26, 0.71, 0.09, 0.66, 0.21, 0.01, 0.82, 0.29, 0.47, 0.49,\n",
       "        0.09, 0.01, 0.76, 0.30, 0.15, 1.56, 1.20, 0.54, 0.08, 0.05, 0.17,\n",
       "        0.12, 0.09, 0.03],\n",
       "       [1.44, 1.57, 0.25, 0.89, 0.65, 0.16, 0.18, 0.96, 0.11, 0.65, 0.32,\n",
       "        0.20, 0.14, 0.10, 0.07, 0.40, 0.22, 0.01, 0.79, 0.36, 0.46, 0.33,\n",
       "        0.11, 0.01, 0.44, 0.07, 0.19, 0.22, 0.32, 0.14, 0.04, 0.02, 0.13,\n",
       "        0.10, 0.06, 0.03],\n",
       "       [0.21, 0.17, 0.11, 0.14, 0.13, 0.34, 0.11, 0.04, 0.23, 0.11, 0.48,\n",
       "        0.25, 0.31, 0.10, 0.10, 1.16, 0.33, 0.00, 1.37, 0.48, 0.65, 0.34,\n",
       "        0.12, 0.01, 0.67, 0.28, 0.10, 0.15, 0.54, 0.20, 0.03, 0.02, 0.39,\n",
       "        0.31, 0.16, 0.05]])"
      ]
     },
     "metadata": {},
     "output_type": "display_data"
    },
    {
     "data": {
      "text/plain": [
       "array([  834,   495,   748,   676, 17524,   837,  2068,  1900,  4918],\n",
       "      dtype=int64)"
      ]
     },
     "metadata": {},
     "output_type": "display_data"
    }
   ],
   "source": [
    "## MyKMeans\n",
    "my_kmeans = MyKmeans(k=9)\n",
    "%time my_kmeans.fit(df_sns.values)\n",
    "display(my_kmeans.centroids * df_std.values + df_mean.values)\n",
    "display(np.bincount(my_kmeans.labels))"
   ]
  },
  {
   "cell_type": "code",
   "execution_count": 31,
   "metadata": {},
   "outputs": [
    {
     "name": "stdout",
     "output_type": "stream",
     "text": [
      "Wall time: 312 ms\n"
     ]
    },
    {
     "data": {
      "text/plain": [
       "array([  673,  1750,   474,  3828,  1267,   837,   888, 19381,   902],\n",
       "      dtype=int64)"
      ]
     },
     "metadata": {},
     "output_type": "display_data"
    }
   ],
   "source": [
    "## MyKMeans++\n",
    "my_kmeans = MyKmeans(k=9, init='k-means++')\n",
    "%time my_kmeans.fit(df_sns.values)\n",
    "display(np.bincount(my_kmeans.labels))"
   ]
  },
  {
   "cell_type": "code",
   "execution_count": 32,
   "metadata": {},
   "outputs": [
    {
     "name": "stdout",
     "output_type": "stream",
     "text": [
      "Wall time: 72.8 ms\n"
     ]
    },
    {
     "data": {
      "text/plain": [
       "array([ 1292, 14738,  1522,   450,   318,  1082,  6293,  1761,  2544],\n",
       "      dtype=int64)"
      ]
     },
     "execution_count": 32,
     "metadata": {},
     "output_type": "execute_result"
    }
   ],
   "source": [
    "## MyKMeans с MiniBatchMyKMeans\n",
    "my_kmeans = MyMiniBatchKMeans(k=9)\n",
    "%time my_kmeans.fit(df_sns.values)\n",
    "np.bincount(my_kmeans.labels)"
   ]
  },
  {
   "cell_type": "code",
   "execution_count": 33,
   "metadata": {},
   "outputs": [
    {
     "name": "stdout",
     "output_type": "stream",
     "text": [
      "Wall time: 162 ms\n"
     ]
    },
    {
     "data": {
      "text/plain": [
       "array([ 2014,   652,   406,  1126,   992,   478, 18013,   948,  5371],\n",
       "      dtype=int64)"
      ]
     },
     "execution_count": 33,
     "metadata": {},
     "output_type": "execute_result"
    }
   ],
   "source": [
    "## MyKMeans++ с MiniBatchMyKMeans\n",
    "my_kmeans = MyMiniBatchKMeans(k=9, init='k-means++')\n",
    "%time my_kmeans.fit(df_sns.values)\n",
    "np.bincount(my_kmeans.labels)"
   ]
  },
  {
   "cell_type": "code",
   "execution_count": 34,
   "metadata": {},
   "outputs": [
    {
     "name": "stdout",
     "output_type": "stream",
     "text": [
      "Wall time: 4.32 s\n"
     ]
    },
    {
     "data": {
      "text/plain": [
       "array([[0.11, 0.10, 0.10, 0.06, 0.07, 0.08, 0.05, 0.03, 0.06, 0.06, 0.15,\n",
       "        0.10, 0.08, 0.05, 0.03, 0.22, 0.16, 0.01, 0.55, 0.15, 0.31, 0.13,\n",
       "        0.07, -0.00, 0.19, 0.04, 0.04, 0.12, 0.17, 0.05, 0.01, 0.01,\n",
       "        0.12, 0.08, 0.05, 0.02],\n",
       "       [1.23, 1.28, 1.15, 0.18, 0.62, 0.17, 0.15, 0.70, 0.25, 0.62, 0.27,\n",
       "        0.17, 0.13, 0.11, 0.05, 0.38, 0.21, 0.01, 0.81, 0.34, 0.46, 0.31,\n",
       "        0.10, 0.00, 0.40, 0.06, 0.16, 0.23, 0.33, 0.12, 0.03, 0.02, 0.14,\n",
       "        0.09, 0.06, 0.03],\n",
       "       [0.25, 0.25, 0.18, 0.10, 0.13, 0.28, 0.30, 0.06, 0.10, 0.10, 0.99,\n",
       "        0.23, 0.35, 0.40, 0.10, 1.23, 0.26, 0.01, 1.09, 0.37, 0.61, 0.54,\n",
       "        0.12, 0.00, 0.79, 0.40, 0.14, 0.74, 1.02, 0.42, 0.06, 0.03, 0.22,\n",
       "        0.17, 0.11, 0.04],\n",
       "       [0.55, 0.50, 0.33, 0.20, 0.21, 0.27, 0.19, 0.23, 0.15, 0.49, 0.71,\n",
       "        2.59, 0.41, 0.27, 1.75, 0.92, 0.75, 0.04, 2.19, 1.12, 0.94, 0.39,\n",
       "        0.15, 0.03, 3.24, 0.34, 0.48, 0.68, 0.53, 0.71, 0.13, 0.13, 1.29,\n",
       "        0.52, 0.82, 1.06],\n",
       "       [0.38, 0.40, 0.31, 0.15, 0.26, 0.26, 0.32, 0.11, 0.16, 0.18, 0.62,\n",
       "        0.24, 0.20, 0.32, 0.13, 0.69, 0.19, 0.01, 0.92, 0.29, 0.47, 0.23,\n",
       "        0.10, 0.01, 0.91, 0.18, 0.22, 0.67, 0.93, 0.42, 1.51, 1.17, 0.22,\n",
       "        0.16, 0.11, 0.07],\n",
       "       [0.00, 2.00, 0.00, 0.00, 0.00, 1.00, 0.00, 0.00, 0.00, 0.00, 1.00,\n",
       "        22.00, 1.00, 0.00, 0.00, 1.00, 1.00, 0.00, 0.00, 1.00, 10.00,\n",
       "        0.00, 1.00, 0.00, 12.00, 2.00, 327.00, 0.00, 0.00, 1.00, 0.00,\n",
       "        0.00, 6.00, 6.00, 6.00, 0.00],\n",
       "       [0.20, 0.29, 0.12, 0.12, 0.09, 0.16, 0.05, 0.04, 0.11, 0.09, 0.29,\n",
       "        0.16, 0.12, 0.10, 0.08, 0.47, 4.93, 1.56, 1.39, 0.37, 0.56, 0.28,\n",
       "        0.11, 0.01, 0.37, 0.13, 0.08, 0.20, 0.31, 0.14, 0.01, 0.01, 0.18,\n",
       "        0.13, 0.05, 0.04],\n",
       "       [0.34, 0.26, 0.25, 0.10, 0.17, 0.18, 0.10, 0.09, 0.11, 0.13, 0.29,\n",
       "        0.20, 0.10, 0.13, 0.07, 0.38, 0.40, 0.03, 0.99, 0.32, 3.89, 1.46,\n",
       "        1.62, 1.09, 0.47, 0.12, 0.11, 0.17, 0.33, 0.16, 0.03, 0.02, 0.32,\n",
       "        0.22, 0.13, 0.08],\n",
       "       [0.78, 0.38, 0.20, 4.69, 0.52, 0.19, 0.10, 0.19, 0.06, 0.38, 0.37,\n",
       "        0.21, 0.13, 0.15, 0.10, 0.43, 0.29, 0.02, 0.85, 0.27, 0.55, 0.42,\n",
       "        0.13, 0.01, 0.50, 0.17, 0.13, 0.33, 0.53, 0.23, 0.07, 0.05, 0.17,\n",
       "        0.15, 0.07, 0.06]])"
      ]
     },
     "metadata": {},
     "output_type": "display_data"
    },
    {
     "data": {
      "text/plain": [
       "array([19648,  2591,  4367,   931,   853,     1,   579,   526,   504],\n",
       "      dtype=int64)"
      ]
     },
     "execution_count": 34,
     "metadata": {},
     "output_type": "execute_result"
    }
   ],
   "source": [
    "kmeans = KMeans(n_clusters=9)\n",
    "%time kmeans.fit(X=df_sns.values)\n",
    "display(kmeans.cluster_centers_ * df_std.values + df_mean.values)\n",
    "np.bincount(kmeans.labels_)"
   ]
  },
  {
   "cell_type": "code",
   "execution_count": null,
   "metadata": {},
   "outputs": [],
   "source": [
    "## Вывод\n",
    "\"\"\"\n",
    "Сложно по столь крупным векторам сложно сказать по каким признакам распределились наши классы.\n",
    "Но судя по скорости работы выигрывают MiniBatch алгоритмы, как и ожидалось, но свое предпочтение я отдаю MiniBatch kmeans++\n",
    "Так как хоть по скорости он уступает обычной версии MiniBatch, но по стабильности kmeans++ лучше.\n",
    "Скорость достигается за счет разбиения на батчи, а стабильность с помощью особого выбора начальных точек.\n",
    "\"\"\""
   ]
  }
 ],
 "metadata": {
  "anaconda-cloud": {},
  "kernelspec": {
   "display_name": "Python 3",
   "language": "python",
   "name": "python3"
  },
  "language_info": {
   "codemirror_mode": {
    "name": "ipython",
    "version": 3
   },
   "file_extension": ".py",
   "mimetype": "text/x-python",
   "name": "python",
   "nbconvert_exporter": "python",
   "pygments_lexer": "ipython3",
   "version": "3.6.5"
  },
  "nav_menu": {},
  "toc": {
   "navigate_menu": true,
   "number_sections": false,
   "sideBar": true,
   "threshold": 6,
   "toc_cell": false,
   "toc_section_display": "block",
   "toc_window_display": true
  }
 },
 "nbformat": 4,
 "nbformat_minor": 2
}
