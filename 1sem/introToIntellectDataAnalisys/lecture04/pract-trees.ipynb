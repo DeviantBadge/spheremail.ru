{
 "cells": [
  {
   "cell_type": "markdown",
   "metadata": {},
   "source": [
    "<center><img src=\"images/header.png\"></center>\n",
    "\n",
    "<h1><center>Алгоритмы интеллектуальной обработки больших объемов данных</center></h1>\n",
    "<hr>\n",
    "<h2><center>Деревья решений, случайные леса (практика)</center></h2>"
   ]
  },
  {
   "cell_type": "code",
   "execution_count": 2,
   "metadata": {},
   "outputs": [],
   "source": [
    "import pandas as pd\n",
    "import numpy as np\n",
    "import matplotlib.pyplot as plt\n",
    "\n",
    "%matplotlib inline\n",
    "\n",
    "plt.style.use('ggplot')\n",
    "plt.rcParams['figure.figsize'] = (12,8)\n",
    "\n",
    "# Для кириллицы на графиках\n",
    "font = {'family': 'Verdana',\n",
    "        'weight': 'normal'}\n",
    "plt.rc('font', **font)"
   ]
  },
  {
   "cell_type": "markdown",
   "metadata": {},
   "source": [
    "# Практика 1"
   ]
  },
  {
   "cell_type": "markdown",
   "metadata": {},
   "source": [
    "Загрузите данные [отсюда](https://cloud.mail.ru/public/8nHV/p6J7wY1y1) и положите в папку  `data` в директорию с ноутбуком."
   ]
  },
  {
   "cell_type": "code",
   "execution_count": 3,
   "metadata": {
    "scrolled": true
   },
   "outputs": [],
   "source": [
    "df_churn = pd.read_csv('./data/churn.csv')"
   ]
  },
  {
   "cell_type": "code",
   "execution_count": 4,
   "metadata": {},
   "outputs": [],
   "source": [
    "def preproc(df_init):\n",
    "    df_preproc = df_init.copy()\n",
    "    \n",
    "    # Удалили признаки\n",
    "    df_preproc = df_preproc.drop(['State', 'Area Code', 'Phone'], axis=1)\n",
    "    \n",
    "    # Замена категориальных признаков\n",
    "    df_preproc.loc[:,  [\"Int'l Plan\", 'VMail Plan']] = \\\n",
    "    df_preproc.loc[:,  [\"Int'l Plan\", 'VMail Plan']].replace({'no': 0, 'yes': 1})\n",
    "    \n",
    "    df_preproc.loc[:,  'Churn?'] = df_preproc.loc[:,  'Churn?'].replace({'False.': 0,\n",
    "                                                                         'True.': 1})\n",
    "    return df_preproc"
   ]
  },
  {
   "cell_type": "code",
   "execution_count": 5,
   "metadata": {},
   "outputs": [],
   "source": [
    "df_preproc = df_churn.pipe(preproc)"
   ]
  },
  {
   "cell_type": "code",
   "execution_count": 6,
   "metadata": {},
   "outputs": [],
   "source": [
    "X, y = df_preproc.iloc[:, :-1].values, df_preproc.iloc[:, -1].values"
   ]
  },
  {
   "cell_type": "markdown",
   "metadata": {},
   "source": [
    "## Кросс-валидация по одному гиперпараметру"
   ]
  },
  {
   "cell_type": "markdown",
   "metadata": {},
   "source": [
    "Посмотрим, что делает функция `validation_curve`."
   ]
  },
  {
   "cell_type": "code",
   "execution_count": 7,
   "metadata": {},
   "outputs": [],
   "source": [
    "from sklearn.model_selection import validation_curve\n",
    "from sklearn.model_selection import StratifiedKFold\n",
    "from sklearn.tree import DecisionTreeClassifier"
   ]
  },
  {
   "cell_type": "markdown",
   "metadata": {},
   "source": [
    "`validation_curve` позволяе исследовать влияние отдельного гиперпараметра модели на ее качество.\n",
    "\n",
    "Построим валидационные кривые по гиперпараметру глубина дерева (`max_depth`) остальных гиперпараметрах, зафиксированных на значениях по-умолчанию"
   ]
  },
  {
   "cell_type": "code",
   "execution_count": 74,
   "metadata": {},
   "outputs": [],
   "source": [
    "model = DecisionTreeClassifier(random_state=123)\n",
    "\n",
    "cv = StratifiedKFold(n_splits=5, shuffle=True, random_state=132)\n",
    "\n",
    "depths = range(1, 10)\n",
    "tree_train_scores, tree_valid_scores = validation_curve(model, X, y, \n",
    "                                              'max_depth', depths,\n",
    "                                              cv=cv, scoring='roc_auc')\n",
    "# это значит, что мы будем проверять влияние параметра max_depth\n",
    "# в дапозоне от 1 до 10\n",
    "# и для этого мы будем использовать 5-fold кросс-валидацию\n",
    "# с мерой качества mean_absolute_error.\n",
    "# neg_ потому что по умолчанию в sklearn чем значение меры выше - тем лучше, \n",
    "# но в нашем случае нам нужно как раз допускать меньшую ошибку"
   ]
  },
  {
   "cell_type": "code",
   "execution_count": 75,
   "metadata": {},
   "outputs": [
    {
     "data": {
      "text/plain": [
       "array([[0.61892555, 0.62392851, 0.62575902, 0.62181933, 0.6123606 ],\n",
       "       [0.73450141, 0.74059347, 0.72980809, 0.74252856, 0.72536436],\n",
       "       [0.83707561, 0.83708867, 0.81905679, 0.84509214, 0.82654075],\n",
       "       [0.89670996, 0.89913474, 0.87907463, 0.8954735 , 0.88880332],\n",
       "       [0.92045723, 0.922982  , 0.90493932, 0.9204633 , 0.91689503],\n",
       "       [0.9299558 , 0.93402134, 0.91829266, 0.93640634, 0.93802756],\n",
       "       [0.9367745 , 0.94063437, 0.93953447, 0.94834081, 0.95162462],\n",
       "       [0.94791837, 0.95755784, 0.94802518, 0.95663845, 0.96234077],\n",
       "       [0.95992239, 0.96856024, 0.95306961, 0.96968981, 0.97317478]])"
      ]
     },
     "execution_count": 75,
     "metadata": {},
     "output_type": "execute_result"
    }
   ],
   "source": [
    "tree_train_scores"
   ]
  },
  {
   "cell_type": "code",
   "execution_count": 76,
   "metadata": {},
   "outputs": [
    {
     "data": {
      "text/plain": [
       "array([[0.60803039, 0.58807198, 0.59816422, 0.60224781, 0.61705044],\n",
       "       [0.73239284, 0.7081389 , 0.75866341, 0.68708882, 0.7495614 ],\n",
       "       [0.82094411, 0.81628685, 0.87046482, 0.79037829, 0.83805738],\n",
       "       [0.87022065, 0.85803943, 0.9023422 , 0.85804094, 0.88024488],\n",
       "       [0.88452704, 0.86227166, 0.90309278, 0.87457968, 0.89870249],\n",
       "       [0.86814071, 0.86271478, 0.84494484, 0.83559942, 0.89676535],\n",
       "       [0.85845542, 0.8672183 , 0.83042141, 0.84980811, 0.85694444],\n",
       "       [0.83097305, 0.83623621, 0.77451619, 0.79092654, 0.84543129],\n",
       "       [0.82018448, 0.79931271, 0.77697595, 0.80269554, 0.86353253]])"
      ]
     },
     "execution_count": 76,
     "metadata": {},
     "output_type": "execute_result"
    }
   ],
   "source": [
    "tree_valid_scores"
   ]
  },
  {
   "cell_type": "markdown",
   "metadata": {},
   "source": [
    "Посмотрите, что изображает синяя и красная линия"
   ]
  },
  {
   "cell_type": "code",
   "execution_count": 77,
   "metadata": {},
   "outputs": [
    {
     "data": {
      "text/plain": [
       "Text(0,0.5,'ROC AUC')"
      ]
     },
     "execution_count": 77,
     "metadata": {},
     "output_type": "execute_result"
    },
    {
     "data": {
      "image/png": "[encoded data removed]",
      "text/plain": [
       "<Figure size 864x576 with 1 Axes>"
      ]
     },
     "metadata": {},
     "output_type": "display_data"
    }
   ],
   "source": [
    "train_score_mean = tree_train_scores.mean(axis=1)\n",
    "train_score_std = tree_train_scores.std(axis=1)\n",
    "valid_scores_mean = tree_valid_scores.mean(axis=1)\n",
    "valid_scores_std = tree_valid_scores.std(axis=1)\n",
    "\n",
    "plt.fill_between(depths, train_score_mean-train_score_std, train_score_mean+train_score_std, color='b',\n",
    "                 interpolate=True, alpha=0.5,)\n",
    "plt.fill_between(depths, valid_scores_mean-valid_scores_std, valid_scores_mean+valid_scores_std, color='r', \n",
    "                 interpolate=True, alpha=0.5)\n",
    "\n",
    "plt.plot(depths, train_score_mean, c='b', lw=2)\n",
    "plt.plot(depths, valid_scores_mean, c='r', lw=2)\n",
    "\n",
    "plt.xlabel('max depth')\n",
    "plt.ylabel('ROC AUC')"
   ]
  },
  {
   "cell_type": "markdown",
   "metadata": {},
   "source": [
    "### Важность признаков"
   ]
  },
  {
   "cell_type": "markdown",
   "metadata": {},
   "source": [
    "Возьмем лучшую модель и выведем важность признаков"
   ]
  },
  {
   "cell_type": "code",
   "execution_count": 78,
   "metadata": {},
   "outputs": [],
   "source": [
    "model = DecisionTreeClassifier(max_depth=5)\n",
    "model.fit(X, y)\n",
    "\n",
    "imp = model.feature_importances_"
   ]
  },
  {
   "cell_type": "markdown",
   "metadata": {},
   "source": [
    "Каждое число соответствует важности признака, который подавался на вход\n",
    "\n",
    "Для каждого признака (с названием) получите его значение важности"
   ]
  },
  {
   "cell_type": "code",
   "execution_count": 79,
   "metadata": {},
   "outputs": [],
   "source": [
    "## Your code here\n",
    "feature_names = df_preproc.columns[:-1]\n",
    "feature_importance = pd.Series(index=feature_names, data=imp).sort_values()"
   ]
  },
  {
   "cell_type": "code",
   "execution_count": 80,
   "metadata": {},
   "outputs": [
    {
     "data": {
      "text/plain": [
       "Account Length    0.000000\n",
       "Night Charge      0.000000\n",
       "VMail Message     0.000000\n",
       "Intl Charge       0.000000\n",
       "Day Calls         0.000000\n",
       "Night Calls       0.000564\n",
       "Eve Calls         0.006991\n",
       "Night Mins        0.016600\n",
       "Eve Charge        0.018272\n",
       "VMail Plan        0.061096\n",
       "Intl Calls        0.088078\n",
       "Day Charge        0.099611\n",
       "Int'l Plan        0.103736\n",
       "Eve Mins          0.108574\n",
       "Intl Mins         0.114613\n",
       "CustServ Calls    0.154268\n",
       "Day Mins          0.227597\n",
       "dtype: float64"
      ]
     },
     "execution_count": 80,
     "metadata": {},
     "output_type": "execute_result"
    }
   ],
   "source": [
    "feature_importance"
   ]
  },
  {
   "cell_type": "markdown",
   "metadata": {},
   "source": [
    "## Бэггинг над деревьями"
   ]
  },
  {
   "cell_type": "code",
   "execution_count": 81,
   "metadata": {},
   "outputs": [],
   "source": [
    "from sklearn.ensemble import BaggingClassifier"
   ]
  },
  {
   "cell_type": "code",
   "execution_count": 82,
   "metadata": {},
   "outputs": [],
   "source": [
    "model = BaggingClassifier(DecisionTreeClassifier(), \n",
    "                          n_estimators=50, random_state=123)"
   ]
  },
  {
   "cell_type": "code",
   "execution_count": 83,
   "metadata": {},
   "outputs": [],
   "source": [
    "_, bag_valid_scores = validation_curve(model, X, y, \n",
    "                                      param_name='base_estimator__max_depth', \n",
    "                                      param_range=depths, \n",
    "                 scoring='roc_auc', cv=cv, n_jobs=-1)"
   ]
  },
  {
   "cell_type": "code",
   "execution_count": 84,
   "metadata": {},
   "outputs": [
    {
     "data": {
      "text/plain": [
       "<matplotlib.legend.Legend at 0x29a1804ed30>"
      ]
     },
     "execution_count": 84,
     "metadata": {},
     "output_type": "execute_result"
    },
    {
     "data": {
      "image/png": "[encoded data removed]",
      "text/plain": [
       "<Figure size 864x576 with 1 Axes>"
      ]
     },
     "metadata": {},
     "output_type": "display_data"
    }
   ],
   "source": [
    "plt.plot(depths, bag_valid_scores.mean(axis=1), label='bag')\n",
    "plt.plot(depths, tree_valid_scores.mean(axis=1), label='tree')\n",
    "plt.legend()"
   ]
  },
  {
   "cell_type": "markdown",
   "metadata": {},
   "source": [
    "## Случайных лес"
   ]
  },
  {
   "cell_type": "code",
   "execution_count": 85,
   "metadata": {},
   "outputs": [],
   "source": [
    "from sklearn.ensemble import RandomForestClassifier"
   ]
  },
  {
   "cell_type": "code",
   "execution_count": 86,
   "metadata": {},
   "outputs": [],
   "source": [
    "model = RandomForestClassifier(random_state=123, n_estimators=50, \n",
    "                               n_jobs=-1)"
   ]
  },
  {
   "cell_type": "code",
   "execution_count": 87,
   "metadata": {},
   "outputs": [],
   "source": [
    "_, forest_valid_scores = validation_curve(model, X, y, \n",
    "                                         param_name='max_depth', \n",
    "                                         param_range=depths, \n",
    "                 scoring='roc_auc', cv=cv, n_jobs=1)"
   ]
  },
  {
   "cell_type": "code",
   "execution_count": 88,
   "metadata": {},
   "outputs": [
    {
     "data": {
      "text/plain": [
       "<matplotlib.legend.Legend at 0x29a180fa080>"
      ]
     },
     "execution_count": 88,
     "metadata": {},
     "output_type": "execute_result"
    },
    {
     "data": {
      "image/png": "[encoded data removed]",
      "text/plain": [
       "<Figure size 864x576 with 1 Axes>"
      ]
     },
     "metadata": {},
     "output_type": "display_data"
    }
   ],
   "source": [
    "plt.plot(depths, bag_valid_scores.mean(axis=1), label='bag')\n",
    "plt.plot(depths, tree_valid_scores.mean(axis=1), label='tree')\n",
    "plt.plot(depths, forest_valid_scores.mean(axis=1), label='forest')\n",
    "plt.legend()"
   ]
  },
  {
   "cell_type": "markdown",
   "metadata": {},
   "source": [
    "## Подбор всех гиперпараметров\n",
    "\n",
    "Обычно подбирают гиперпараметры целыми группами. Есть несколько способов это делать\n",
    "* Полный перебор (Grid Search) - явно задаются все возможные значения параметров. Далее перебираются все возможные комбинации этих параметров\n",
    "* Случайный перебор (Random Search) - для некоотрых параметров задается распределение через функцию распределения. Задается количество случайных комбинаций, которых требуется перебрать.\n",
    "* \"Умный\" перебор ([hyperopt](http://hyperopt.github.io/hyperopt/)) - после каждого шага, следующия комбинация выбирается специальным образом, чтобы с одной стороны проверить неисследованные области, а с другой минимизировать функцию потерь. Не всегда работат так хорошо, как звучит.\n",
    "\n",
    "Мы же попробует случайный поиск. Почему случайный поиск лучше перебора:"
   ]
  },
  {
   "cell_type": "markdown",
   "metadata": {},
   "source": [
    "<center><img src='https://cdn-images-1.medium.com/max/800/1*ZTlQm_WRcrNqL-nLnx6GJA.png'></center>"
   ]
  },
  {
   "cell_type": "code",
   "execution_count": 89,
   "metadata": {},
   "outputs": [],
   "source": [
    "from scipy.stats import randint as randint\n",
    "from scipy.stats import uniform\n",
    "\n",
    "try:\n",
    "    from sklearn.model_selection import GridSearchCV\n",
    "    from sklearn.model_selection import RandomizedSearchCV\n",
    "    from sklearn.model_selection import StratifiedKFold\n",
    "except ImportError:\n",
    "    from sklearn.cross_validation import GridSearchCV\n",
    "    from sklearn.cross_validation import RandomizedSearchCV\n",
    "    from sklearn.cross_validation import StratifiedKFold\n",
    "\n",
    "\n",
    "RND_SEED = 123"
   ]
  },
  {
   "cell_type": "code",
   "execution_count": 94,
   "metadata": {},
   "outputs": [
    {
     "data": {
      "text/plain": [
       "RandomizedSearchCV(cv=StratifiedKFold(n_splits=5, random_state=123, shuffle=True),\n",
       "          error_score='raise',\n",
       "          estimator=DecisionTreeClassifier(class_weight=None, criterion='gini', max_depth=None,\n",
       "            max_features=None, max_leaf_nodes=None,\n",
       "            min_impurity_decrease=0.0, min_impurity_split=None,\n",
       "            min_samples_leaf=1, min_samples_split=2,\n",
       "            min_weight_fraction_leaf=0.0, presort=False, random_state=123,\n",
       "            splitter='best'),\n",
       "          fit_params=None, iid=True, n_iter=200, n_jobs=-1,\n",
       "          param_distributions={'criterion': ['gini', 'entropy'], 'max_depth': <scipy.stats._distn_infrastructure.rv_frozen object at 0x0000029A18148908>, 'min_samples_leaf': <scipy.stats._distn_infrastructure.rv_frozen object at 0x0000029A180D9940>, 'class_weight': [None, 'balanced']},\n",
       "          pre_dispatch='2*n_jobs', random_state=123, refit=True,\n",
       "          return_train_score='warn', scoring='roc_auc', verbose=0)"
      ]
     },
     "execution_count": 94,
     "metadata": {},
     "output_type": "execute_result"
    }
   ],
   "source": [
    "# Определим пространство поиска\n",
    "\n",
    "param_grid = {\n",
    "    'criterion': ['gini', 'entropy'],\n",
    "    'max_depth': randint(2, 8),\n",
    "    'min_samples_leaf': randint(5, 10),\n",
    "    'class_weight': [None, 'balanced']}\n",
    "\n",
    "# Некоторые параметры мы задали не простым перечислением значений, а \n",
    "# с помощью распределений.\n",
    "\n",
    "# Будем делать 200 запусков поиска\n",
    "cv = StratifiedKFold(n_splits=5, random_state=123, shuffle=True)\n",
    "\n",
    "model = DecisionTreeClassifier(random_state=123)\n",
    "random_search = RandomizedSearchCV(model, param_distributions=param_grid, n_iter=200, n_jobs=-1,\n",
    "                                   cv=cv, scoring='roc_auc', random_state=123)\n",
    "# А дальше, просто .fit()\n",
    "random_search.fit(X, y)"
   ]
  },
  {
   "cell_type": "code",
   "execution_count": 95,
   "metadata": {},
   "outputs": [
    {
     "data": {
      "text/plain": [
       "{'class_weight': None,\n",
       " 'criterion': 'gini',\n",
       " 'max_depth': 5,\n",
       " 'min_samples_leaf': 6}"
      ]
     },
     "execution_count": 95,
     "metadata": {},
     "output_type": "execute_result"
    }
   ],
   "source": [
    "random_search.best_params_"
   ]
  },
  {
   "cell_type": "code",
   "execution_count": 96,
   "metadata": {},
   "outputs": [
    {
     "data": {
      "text/plain": [
       "0.8981263586885004"
      ]
     },
     "execution_count": 96,
     "metadata": {},
     "output_type": "execute_result"
    }
   ],
   "source": [
    "random_search.best_score_"
   ]
  },
  {
   "cell_type": "code",
   "execution_count": 97,
   "metadata": {},
   "outputs": [],
   "source": [
    "best_model = random_search.best_estimator_"
   ]
  },
  {
   "cell_type": "markdown",
   "metadata": {},
   "source": [
    "# Практика 2"
   ]
  },
  {
   "cell_type": "markdown",
   "metadata": {},
   "source": [
    "### Предобработка данных"
   ]
  },
  {
   "cell_type": "code",
   "execution_count": 98,
   "metadata": {},
   "outputs": [],
   "source": [
    "df = pd.read_csv('./data/speed-dating-experiment/Speed Dating Data.csv', encoding='latin1')"
   ]
  },
  {
   "cell_type": "code",
   "execution_count": 99,
   "metadata": {},
   "outputs": [
    {
     "data": {
      "text/plain": [
       "(8378, 195)"
      ]
     },
     "execution_count": 99,
     "metadata": {},
     "output_type": "execute_result"
    }
   ],
   "source": [
    "df.shape"
   ]
  },
  {
   "cell_type": "code",
   "execution_count": 100,
   "metadata": {},
   "outputs": [],
   "source": [
    "df = df.iloc[:, :97]"
   ]
  },
  {
   "cell_type": "markdown",
   "metadata": {},
   "source": [
    "Рассмотрим нужные признаки по очереди"
   ]
  },
  {
   "cell_type": "markdown",
   "metadata": {},
   "source": [
    "#### iid\n",
    "unique subject number, group(wave id gender)\n",
    "\n",
    "Кажется это идентификатор"
   ]
  },
  {
   "cell_type": "code",
   "execution_count": null,
   "metadata": {},
   "outputs": [],
   "source": [
    "df.iid.nunique()"
   ]
  },
  {
   "cell_type": "markdown",
   "metadata": {},
   "source": [
    "#### id \n",
    "\n",
    "Subject number within wave\n",
    "\n",
    "Кажется это нам не нужно"
   ]
  },
  {
   "cell_type": "code",
   "execution_count": null,
   "metadata": {},
   "outputs": [],
   "source": [
    "df = df.drop(['id'], axis=1)\n",
    "df = df.drop(['idg'], axis=1)"
   ]
  },
  {
   "cell_type": "markdown",
   "metadata": {},
   "source": [
    "#### gender\n",
    "\n",
    "* Female=0\n",
    "* Male=1"
   ]
  },
  {
   "cell_type": "code",
   "execution_count": null,
   "metadata": {},
   "outputs": [],
   "source": [
    "df.drop_duplicates(subset=['iid']).gender.value_counts()"
   ]
  },
  {
   "cell_type": "markdown",
   "metadata": {},
   "source": [
    "#### condtn:\n",
    "* 1=limited choice\n",
    "* 2=extensive choice\n",
    "\n",
    "???"
   ]
  },
  {
   "cell_type": "code",
   "execution_count": null,
   "metadata": {},
   "outputs": [],
   "source": [
    "df.drop_duplicates(subset=['iid']).condtn.value_counts()"
   ]
  },
  {
   "cell_type": "code",
   "execution_count": null,
   "metadata": {},
   "outputs": [],
   "source": [
    "df = df.drop(['condtn'], axis=1)"
   ]
  },
  {
   "cell_type": "markdown",
   "metadata": {},
   "source": [
    "#### wave\n",
    "\n",
    "Пока оставим в таблице, но в качестве признака рассматривать не будем"
   ]
  },
  {
   "cell_type": "code",
   "execution_count": null,
   "metadata": {},
   "outputs": [],
   "source": [
    "df.wave.unique()"
   ]
  },
  {
   "cell_type": "markdown",
   "metadata": {},
   "source": [
    "#### round:\n",
    "\n",
    "number of people that met in wave\n",
    "\n",
    "Можно взять в качестве признака.."
   ]
  },
  {
   "cell_type": "code",
   "execution_count": null,
   "metadata": {},
   "outputs": [],
   "source": [
    "df = df.drop(['round'], axis=1)"
   ]
  },
  {
   "cell_type": "markdown",
   "metadata": {},
   "source": [
    "#### position:\n",
    "station number where met partner \n",
    "\n",
    "#### positin1\n",
    "station number where started \n",
    "\n",
    "Выкидываем"
   ]
  },
  {
   "cell_type": "code",
   "execution_count": null,
   "metadata": {},
   "outputs": [],
   "source": [
    "df = df.drop(['position', 'positin1'], axis=1)"
   ]
  },
  {
   "cell_type": "markdown",
   "metadata": {},
   "source": [
    "#### order: \t\t\n",
    "the number of date that night when met partner\n"
   ]
  },
  {
   "cell_type": "code",
   "execution_count": null,
   "metadata": {},
   "outputs": [],
   "source": [
    "df = df.drop(['order'], axis=1)"
   ]
  },
  {
   "cell_type": "markdown",
   "metadata": {},
   "source": [
    "#### partner: \t\n",
    "partner’s id number the night of event\n",
    "\n",
    "Это можно удались\n",
    "\n",
    "#### pid: \t\t\n",
    "partner’s iid number\n",
    "А вот это важно\n"
   ]
  },
  {
   "cell_type": "code",
   "execution_count": null,
   "metadata": {},
   "outputs": [],
   "source": [
    "df = df.drop(['partner'], axis=1)"
   ]
  },
  {
   "cell_type": "markdown",
   "metadata": {},
   "source": [
    "##### match\t\t\n",
    "* 1=yes, \n",
    "* 0=no\n",
    "\n",
    "Наш таргет"
   ]
  },
  {
   "cell_type": "markdown",
   "metadata": {},
   "source": [
    "#### int_corr:\t\n",
    "correlation between participant’s and partner’s ratings of interests in \t\t\n",
    "\n",
    "#### samerace:  \t\n",
    "participant and the partner were the same race. 1= yes, 0=no\n",
    "\n",
    "Придумали за нас признаки)"
   ]
  },
  {
   "cell_type": "markdown",
   "metadata": {},
   "source": [
    "#### age_o:\t\t\n",
    "age of partner\n",
    "#### race_o:\t\t\n",
    "race of partner\n",
    "#### pf_o_att: \t\n",
    "partner’s stated preference at Time 1 (attr1_1) for all 6 attributes\n",
    "#### dec_o: \t\t\n",
    "decision of partner the night of event\n",
    "#### attr_o: \t\t\n",
    "rating by partner the night of the event, for all 6 attributes\n",
    "\n",
    "Убираем"
   ]
  },
  {
   "cell_type": "code",
   "execution_count": null,
   "metadata": {},
   "outputs": [],
   "source": [
    "df = df.drop(['age_o', 'race_o', 'pf_o_att', \n",
    "              'pf_o_sin', 'pf_o_int',\n",
    "              'pf_o_fun', 'pf_o_amb', 'pf_o_sha',\n",
    "              'dec_o', 'attr_o', 'sinc_o', 'intel_o', 'fun_o',\n",
    "              'amb_o', 'shar_o', 'like_o', 'prob_o','met_o'], \n",
    "             axis=1)"
   ]
  },
  {
   "cell_type": "markdown",
   "metadata": {},
   "source": [
    "#### age\n",
    "оставляем"
   ]
  },
  {
   "cell_type": "code",
   "execution_count": null,
   "metadata": {},
   "outputs": [],
   "source": [
    "df.drop_duplicates(subset=['iid']).age.hist(bins=20)"
   ]
  },
  {
   "cell_type": "code",
   "execution_count": null,
   "metadata": {},
   "outputs": [],
   "source": [
    "df.drop_duplicates('iid').age.isnull().sum()"
   ]
  },
  {
   "cell_type": "code",
   "execution_count": null,
   "metadata": {},
   "outputs": [],
   "source": [
    "df = df.dropna(subset=['age'])"
   ]
  },
  {
   "cell_type": "markdown",
   "metadata": {},
   "source": [
    "#### field:\t\t\n",
    "field of study  \n",
    "\n",
    "#### field_cd: \t\n",
    "field coded \n"
   ]
  },
  {
   "cell_type": "code",
   "execution_count": null,
   "metadata": {
    "scrolled": true
   },
   "outputs": [],
   "source": [
    "for i, group in df.groupby('field_cd'):\n",
    "    print('=' * 10)\n",
    "    print('Field Code {}'.format(i))\n",
    "    print(group.field.unique())"
   ]
  },
  {
   "cell_type": "code",
   "execution_count": null,
   "metadata": {},
   "outputs": [],
   "source": [
    "df.field_cd.isnull().sum()"
   ]
  },
  {
   "cell_type": "code",
   "execution_count": null,
   "metadata": {},
   "outputs": [],
   "source": [
    "df.loc[:, 'field_cd'] = df.loc[:, 'field_cd'].fillna(19)"
   ]
  },
  {
   "cell_type": "code",
   "execution_count": null,
   "metadata": {},
   "outputs": [],
   "source": [
    "df = df.drop(['field'], axis=1)"
   ]
  },
  {
   "cell_type": "markdown",
   "metadata": {},
   "source": [
    "Надо же как-то закодировать field_cd!"
   ]
  },
  {
   "cell_type": "code",
   "execution_count": null,
   "metadata": {},
   "outputs": [],
   "source": [
    "## Your code here"
   ]
  },
  {
   "cell_type": "markdown",
   "metadata": {},
   "source": [
    "#### undergrd:  \t\n",
    "school attended for undergraduate degree\n",
    "\n",
    "Пока выкинем"
   ]
  },
  {
   "cell_type": "code",
   "execution_count": null,
   "metadata": {},
   "outputs": [],
   "source": [
    "df.undergra.value_counts().head()"
   ]
  },
  {
   "cell_type": "code",
   "execution_count": null,
   "metadata": {},
   "outputs": [],
   "source": [
    "df = df.drop(['undergra'], axis=1)"
   ]
  },
  {
   "cell_type": "markdown",
   "metadata": {},
   "source": [
    "#### mn_sat: \t\n",
    "Median SAT score for the undergraduate institution where attended.  \t\t\t"
   ]
  },
  {
   "cell_type": "code",
   "execution_count": null,
   "metadata": {},
   "outputs": [],
   "source": [
    "df.mn_sat.value_counts().head()"
   ]
  },
  {
   "cell_type": "code",
   "execution_count": null,
   "metadata": {},
   "outputs": [],
   "source": [
    "df.loc[:, 'mn_sat'] = df.loc[:, 'mn_sat'].str.replace(',', '').astype(np.float)"
   ]
  },
  {
   "cell_type": "code",
   "execution_count": null,
   "metadata": {},
   "outputs": [],
   "source": [
    "df.drop_duplicates('iid').mn_sat.hist()"
   ]
  },
  {
   "cell_type": "code",
   "execution_count": null,
   "metadata": {},
   "outputs": [],
   "source": [
    "df.drop_duplicates('iid').mn_sat.isnull().sum()"
   ]
  },
  {
   "cell_type": "code",
   "execution_count": null,
   "metadata": {},
   "outputs": [],
   "source": [
    "# Что будем делать?\n"
   ]
  },
  {
   "cell_type": "markdown",
   "metadata": {},
   "source": [
    "#### tuition: \t\n",
    "Tuition listed for each response to undergrad in Barron’s 25th Edition college profile book."
   ]
  },
  {
   "cell_type": "code",
   "execution_count": null,
   "metadata": {},
   "outputs": [],
   "source": [
    "df.tuition.value_counts().head()"
   ]
  },
  {
   "cell_type": "code",
   "execution_count": null,
   "metadata": {},
   "outputs": [],
   "source": [
    "df.loc[:, 'tuition'] = df.loc[:, 'tuition'].str.replace(',', '').astype(np.float)"
   ]
  },
  {
   "cell_type": "code",
   "execution_count": null,
   "metadata": {},
   "outputs": [],
   "source": [
    "df.drop_duplicates('iid').tuition.hist()"
   ]
  },
  {
   "cell_type": "code",
   "execution_count": null,
   "metadata": {},
   "outputs": [],
   "source": [
    "df.drop_duplicates('iid').tuition.isnull().sum()"
   ]
  },
  {
   "cell_type": "code",
   "execution_count": null,
   "metadata": {},
   "outputs": [],
   "source": [
    "# Что будем делать?\n"
   ]
  },
  {
   "cell_type": "markdown",
   "metadata": {},
   "source": [
    "#### race:\n",
    "* Black/African American=1\n",
    "* European/Caucasian-American=2\n",
    "* Latino/Hispanic American=3\n",
    "* Asian/Pacific Islander/Asian-American=4\n",
    "* Native American=5\n",
    "* Other=6\n"
   ]
  },
  {
   "cell_type": "code",
   "execution_count": null,
   "metadata": {},
   "outputs": [],
   "source": [
    "# Ну тут вы уже сами знаете как быть\n"
   ]
  },
  {
   "cell_type": "markdown",
   "metadata": {},
   "source": [
    "#### imprace:\n",
    "How important is it to you (on a scale of 1-10) that a person you date be of the same racial/ethnic background?\n",
    "\n",
    "#### imprelig:\n",
    " How important is it to you (on a scale of 1-10) that a person you date be of the same religious background?\n"
   ]
  },
  {
   "cell_type": "code",
   "execution_count": null,
   "metadata": {},
   "outputs": [],
   "source": [
    "df.drop_duplicates('iid').imprace.isnull().sum()"
   ]
  },
  {
   "cell_type": "code",
   "execution_count": null,
   "metadata": {},
   "outputs": [],
   "source": [
    "df.drop_duplicates('iid').imprelig.isnull().sum()"
   ]
  },
  {
   "cell_type": "code",
   "execution_count": null,
   "metadata": {},
   "outputs": [],
   "source": [
    "# Что делать?\n",
    "\n",
    "df = df.dropna(subset=['imprelig', 'imprace'])"
   ]
  },
  {
   "cell_type": "markdown",
   "metadata": {},
   "source": [
    "#### from:\n",
    "Where are you from originally (before coming to Columbia)? \n",
    "\n",
    "#### zipcode:\n",
    "What was the zip code of the area where you grew up? \n",
    "\n",
    "Выкидываем"
   ]
  },
  {
   "cell_type": "code",
   "execution_count": null,
   "metadata": {},
   "outputs": [],
   "source": [
    "df = df.drop(['from', 'zipcode'], axis=1)"
   ]
  },
  {
   "cell_type": "markdown",
   "metadata": {},
   "source": [
    "#### income"
   ]
  },
  {
   "cell_type": "code",
   "execution_count": null,
   "metadata": {},
   "outputs": [],
   "source": [
    "df.loc[:, 'income'] = df.loc[:, 'income'].str.replace(',', '').astype(np.float)"
   ]
  },
  {
   "cell_type": "code",
   "execution_count": null,
   "metadata": {},
   "outputs": [],
   "source": [
    "df.drop_duplicates('iid').loc[:, 'income'].hist()"
   ]
  },
  {
   "cell_type": "code",
   "execution_count": null,
   "metadata": {},
   "outputs": [],
   "source": [
    "df.drop_duplicates('iid').loc[:, 'income'].isnull().sum()"
   ]
  },
  {
   "cell_type": "code",
   "execution_count": null,
   "metadata": {},
   "outputs": [],
   "source": [
    "df = df.drop(['income'], axis=1)\n",
    "# df.loc[:, 'income'] = df.loc[:, 'income'].fillna(-999)"
   ]
  },
  {
   "cell_type": "markdown",
   "metadata": {},
   "source": [
    "#### goal:\n",
    "    What is your primary goal in participating in this event? \n",
    "\tSeemed like a fun night out=1\n",
    "\tTo meet new people=2\n",
    "\tTo get a date=3\n",
    "\tLooking for a serious relationship=4\n",
    "\tTo say I did it=5\n",
    "\tOther=6\n",
    "\n",
    "#### date:\n",
    "    In general, how frequently do you go on dates? \n",
    "\tSeveral times a week=1\n",
    "\tTwice a week=2\n",
    "\tOnce a week=3\n",
    "\tTwice a month=4\n",
    "\tOnce a month=5\n",
    "\tSeveral times a year=6\n",
    "\tAlmost never=7\n",
    "\n",
    "#### go out:\n",
    "    How often do you go out (not necessarily on dates)?\n",
    "\tSeveral times a week=1\n",
    "\tTwice a week=2\n",
    "\tOnce a week=3\n",
    "\tTwice a month=4\n",
    "\tOnce a month=5\n",
    "\tSeveral times a year=6\n",
    "\tAlmost never=7\n",
    "\n",
    "Как бы вы предложили закодировать эти переменные?"
   ]
  },
  {
   "cell_type": "code",
   "execution_count": null,
   "metadata": {},
   "outputs": [],
   "source": [
    "df = df.dropna(subset=['date'])"
   ]
  },
  {
   "cell_type": "markdown",
   "metadata": {},
   "source": [
    "#### career:\n",
    "What is your intended career?\n",
    "\n",
    "#### career_c: \n",
    "career coded \n",
    "\n",
    "Работаем аналогично field и field_cd"
   ]
  },
  {
   "cell_type": "code",
   "execution_count": null,
   "metadata": {},
   "outputs": [],
   "source": [
    "for i, group in df.groupby('career_c'):\n",
    "    print('=' * 10)\n",
    "    print('Career Code {}'.format(i))\n",
    "    print(group.career.unique())"
   ]
  },
  {
   "cell_type": "code",
   "execution_count": null,
   "metadata": {},
   "outputs": [],
   "source": [
    "df.career_c.isnull().sum()"
   ]
  },
  {
   "cell_type": "code",
   "execution_count": null,
   "metadata": {},
   "outputs": [],
   "source": [
    "df.loc[:, 'career_c'] = df.loc[:, 'career_c'].fillna(18)"
   ]
  },
  {
   "cell_type": "code",
   "execution_count": null,
   "metadata": {},
   "outputs": [],
   "source": [
    "df = df.drop(['career'], axis=1)"
   ]
  },
  {
   "cell_type": "code",
   "execution_count": null,
   "metadata": {},
   "outputs": [],
   "source": [
    "# Теперь это надо закодировать\n"
   ]
  },
  {
   "cell_type": "markdown",
   "metadata": {},
   "source": [
    "How interested are you in the following activities, on a scale of 1-10?\n",
    "    \n",
    "    sports: Playing sports/ athletics\n",
    "    tvsports: Watching sports\n",
    "    excersice: Body building/exercising\n",
    "    dining: Dining out\n",
    "    museums: Museums/galleries\n",
    "    art: Art\n",
    "    hiking:  Hiking/camping\n",
    "    gaming: Gaming\n",
    "    clubbing: Dancing/clubbing\n",
    "    reading: Reading\n",
    "    tv: Watching TV\n",
    "    theater: Theater\n",
    "    movies: Movies\n",
    "    concerts: Going to concerts\n",
    "    music: Music\n",
    "    shopping: Shopping\n",
    "    yoga: Yoga/meditation\n",
    "\n",
    "По большому счету с этими признаками можно придумать много чего.. Например у нас уже есть признак, который считает корреляцию между интересами пар. Пока мы все их выкинем"
   ]
  },
  {
   "cell_type": "code",
   "execution_count": null,
   "metadata": {},
   "outputs": [],
   "source": [
    "df.loc[:, ['sports','tvsports','exercise','dining','museums','art','hiking','gaming',\n",
    "       'clubbing','reading','tv','theater','movies','concerts','music','shopping','yoga']\n",
    "      ].isnull().sum()"
   ]
  },
  {
   "cell_type": "code",
   "execution_count": null,
   "metadata": {},
   "outputs": [],
   "source": [
    "df = df.drop(['sports','tvsports','exercise','dining','museums','art','hiking','gaming',\n",
    "       'clubbing','reading','tv','theater','movies','concerts','music','shopping','yoga'], axis=1)"
   ]
  },
  {
   "cell_type": "markdown",
   "metadata": {},
   "source": [
    "#### exphappy:\n",
    "Overall, on a scale of 1-10, how happy do you expect to be with the people you meet \n",
    "during the speed-dating event?\n",
    "\n",
    "#### expnum: \n",
    "Out of the 20 people you will meet, how many do you expect will be interested in dating you? \n"
   ]
  },
  {
   "cell_type": "code",
   "execution_count": null,
   "metadata": {},
   "outputs": [],
   "source": [
    "df.drop_duplicates('iid').exphappy.isnull().sum()"
   ]
  },
  {
   "cell_type": "code",
   "execution_count": null,
   "metadata": {},
   "outputs": [],
   "source": [
    "df.drop_duplicates('iid').expnum.isnull().sum()"
   ]
  },
  {
   "cell_type": "code",
   "execution_count": null,
   "metadata": {},
   "outputs": [],
   "source": [
    "df = df.drop(['expnum'], axis=1)"
   ]
  },
  {
   "cell_type": "markdown",
   "metadata": {},
   "source": [
    "### Attr1\n",
    "\n",
    "We want to know what you look for in the opposite sex. \n",
    "Waves 6-9: Please rate the importance of the following attributes in a potential date on a scale of 1-10 (1=not at all important, 10=extremely important):\n",
    "Waves 1-5, 10-21: You have 100 points to distribute among the following attributes -- give more points to those attributes that are more important in a potential date, and fewer points to those attributes that are less important in a potential date.  Total points must equal 100.\n",
    "\n",
    "attr1_1 \n",
    "Attractive\n",
    "\n",
    "sinc1_1\n",
    "Sincere\n",
    "\n",
    "intel1_1\n",
    "Intelligent\n",
    "\n",
    "fun1_1\n",
    "Fun\n",
    "\n",
    "amb1_1\n",
    "Ambitious\n",
    "\n",
    "shar1_1\n",
    "Has shared interests/hobbies\n"
   ]
  },
  {
   "cell_type": "code",
   "execution_count": null,
   "metadata": {},
   "outputs": [],
   "source": [
    "feat = ['iid', 'wave', 'attr1_1', 'sinc1_1', 'intel1_1', 'fun1_1', 'amb1_1', 'shar1_1']"
   ]
  },
  {
   "cell_type": "code",
   "execution_count": null,
   "metadata": {},
   "outputs": [],
   "source": [
    "temp = df.drop_duplicates(subset=['iid', 'wave']).loc[:, feat]"
   ]
  },
  {
   "cell_type": "code",
   "execution_count": null,
   "metadata": {},
   "outputs": [],
   "source": [
    "temp.loc[:, 'totalsum'] = temp.iloc[:, 2:].sum(axis=1)"
   ]
  },
  {
   "cell_type": "code",
   "execution_count": null,
   "metadata": {},
   "outputs": [],
   "source": [
    "idx = ((temp.wave < 6) | (temp.wave > 9)) & (temp.totalsum < 99)"
   ]
  },
  {
   "cell_type": "code",
   "execution_count": null,
   "metadata": {},
   "outputs": [],
   "source": [
    "temp.loc[idx, ]"
   ]
  },
  {
   "cell_type": "code",
   "execution_count": null,
   "metadata": {},
   "outputs": [],
   "source": [
    "idx = ((temp.wave >= 6) & (temp.wave <= 9))"
   ]
  },
  {
   "cell_type": "code",
   "execution_count": null,
   "metadata": {},
   "outputs": [],
   "source": [
    "temp.loc[idx, ]"
   ]
  },
  {
   "cell_type": "markdown",
   "metadata": {},
   "source": [
    "Ну понятно, надо чутка подредактировать исходные признаки и в бой"
   ]
  },
  {
   "cell_type": "code",
   "execution_count": null,
   "metadata": {},
   "outputs": [],
   "source": [
    "df.loc[:, 'temp_totalsum'] = df.loc[:, ['attr1_1', 'sinc1_1', 'intel1_1', 'fun1_1', 'amb1_1', 'shar1_1']].sum(axis=1)"
   ]
  },
  {
   "cell_type": "code",
   "execution_count": null,
   "metadata": {},
   "outputs": [],
   "source": [
    "df.loc[:, ['attr1_1', 'sinc1_1', 'intel1_1', 'fun1_1', 'amb1_1', 'shar1_1']] = \\\n",
    "(df.loc[:, ['attr1_1', 'sinc1_1', 'intel1_1', 'fun1_1', 'amb1_1', 'shar1_1']].T/df.loc[:, 'temp_totalsum'].T).T * 100"
   ]
  },
  {
   "cell_type": "markdown",
   "metadata": {},
   "source": [
    "Проведите аналогичную работу для признаков `attr2`"
   ]
  },
  {
   "cell_type": "markdown",
   "metadata": {},
   "source": [
    "### Attr2"
   ]
  },
  {
   "cell_type": "code",
   "execution_count": null,
   "metadata": {},
   "outputs": [],
   "source": [
    "feat = ['iid', 'wave', 'attr2_1', 'sinc2_1', 'intel2_1', 'fun2_1', 'amb2_1', 'shar2_1']"
   ]
  },
  {
   "cell_type": "code",
   "execution_count": null,
   "metadata": {},
   "outputs": [],
   "source": [
    "temp = df.drop_duplicates(subset=['iid', 'wave']).loc[:, feat]"
   ]
  },
  {
   "cell_type": "code",
   "execution_count": null,
   "metadata": {},
   "outputs": [],
   "source": [
    "temp.loc[:, 'totalsum'] = temp.iloc[:, 2:].sum(axis=1)"
   ]
  },
  {
   "cell_type": "code",
   "execution_count": null,
   "metadata": {},
   "outputs": [],
   "source": [
    "idx = ((temp.wave < 6) | (temp.wave > 9)) & (temp.totalsum < 90) & (temp.totalsum != 0)"
   ]
  },
  {
   "cell_type": "code",
   "execution_count": null,
   "metadata": {},
   "outputs": [],
   "source": [
    "temp.loc[idx, ]"
   ]
  },
  {
   "cell_type": "code",
   "execution_count": null,
   "metadata": {},
   "outputs": [],
   "source": [
    "idx = ((temp.wave >= 6) & (temp.wave <= 9))"
   ]
  },
  {
   "cell_type": "code",
   "execution_count": null,
   "metadata": {},
   "outputs": [],
   "source": [
    "temp.loc[idx, ]"
   ]
  },
  {
   "cell_type": "code",
   "execution_count": null,
   "metadata": {},
   "outputs": [],
   "source": [
    "df.loc[:, 'temp_totalsum'] = df.loc[:, ['attr2_1', 'sinc2_1', 'intel2_1', 'fun2_1', 'amb2_1', 'shar2_1']].sum(axis=1)"
   ]
  },
  {
   "cell_type": "code",
   "execution_count": null,
   "metadata": {},
   "outputs": [],
   "source": [
    "df.loc[:, ['attr2_1', 'sinc2_1', 'intel2_1', 'fun2_1', 'amb2_1', 'shar2_1']] = \\\n",
    "(df.loc[:, ['attr2_1', 'sinc2_1', 'intel2_1', 'fun2_1', 'amb2_1', 'shar2_1']].T/df.loc[:, 'temp_totalsum'].T).T * 100"
   ]
  },
  {
   "cell_type": "code",
   "execution_count": null,
   "metadata": {},
   "outputs": [],
   "source": [
    "df = df.drop(['temp_totalsum'], axis=1)"
   ]
  },
  {
   "cell_type": "markdown",
   "metadata": {},
   "source": [
    "Признаки `attr4` и `attr5` пока выбросим"
   ]
  },
  {
   "cell_type": "code",
   "execution_count": null,
   "metadata": {
    "scrolled": true
   },
   "outputs": [],
   "source": [
    "for i in [4, 5]:\n",
    "    feat = ['attr{}_1'.format(i), 'sinc{}_1'.format(i), \n",
    "            'intel{}_1'.format(i), 'fun{}_1'.format(i), \n",
    "            'amb{}_1'.format(i), 'shar{}_1'.format(i)]\n",
    "    \n",
    "    if i != 4:\n",
    "        feat.remove('shar{}_1'.format(i))\n",
    "    \n",
    "    df = df.drop(feat, axis=1)"
   ]
  },
  {
   "cell_type": "markdown",
   "metadata": {},
   "source": [
    "Теперь создалим таблицу с мужчинами, таблицу с женщинами с сджоиним их"
   ]
  },
  {
   "cell_type": "code",
   "execution_count": null,
   "metadata": {},
   "outputs": [],
   "source": [
    "df = df.drop(['wave'], axis=1)"
   ]
  },
  {
   "cell_type": "code",
   "execution_count": null,
   "metadata": {},
   "outputs": [],
   "source": [
    "df_male = df.query('gender == 1').drop_duplicates(subset=['iid', 'pid'])\\\n",
    "                                 .drop(['gender'], axis=1)\\\n",
    "                                 .dropna()\n",
    "df_female = df.query('gender == 0').drop_duplicates(subset=['iid'])\\\n",
    "                                   .drop(['gender', 'match', 'int_corr', 'samerace'], axis=1)\\\n",
    "                                   .dropna()\n",
    "        \n",
    "df_female.columns = df_female.columns + '_f'"
   ]
  },
  {
   "cell_type": "markdown",
   "metadata": {},
   "source": [
    "#### Задание\n",
    "\n",
    "* Объедините два датафрейма с помощью метода `join`\n",
    "* Выделите предикторы в матрицу `X` (numpy.array), а целевой признак в вектор `y`(numpy.array)\n",
    "* С помощью метода `train_test_split` разбейте данные на обучаюущю и валидационную выборку"
   ]
  },
  {
   "cell_type": "code",
   "execution_count": null,
   "metadata": {},
   "outputs": [],
   "source": [
    "from sklearn.model_selection import train_test_split"
   ]
  },
  {
   "cell_type": "code",
   "execution_count": null,
   "metadata": {},
   "outputs": [],
   "source": [
    "# Your Code Here"
   ]
  },
  {
   "cell_type": "markdown",
   "metadata": {},
   "source": [
    "#### Задание\n",
    "\n",
    "Сфокусируемся на одном гиперпараметре деревьев решений - максимальной глубине.\n",
    "\n",
    "Подберите наилучшую глубину `d` дерева с помошью \n",
    "* Усредненной оценки качества roc-auc на кросс-валидации при различных `d`"
   ]
  },
  {
   "cell_type": "code",
   "execution_count": null,
   "metadata": {},
   "outputs": [],
   "source": [
    "from sklearn.tree import DecisionTreeClassifier\n",
    "\n",
    "from sklearn.model_selection import cross_val_score\n",
    "from sklearn.model_selection import validation_curve"
   ]
  },
  {
   "cell_type": "code",
   "execution_count": null,
   "metadata": {},
   "outputs": [],
   "source": [
    "# Your Code Here"
   ]
  },
  {
   "cell_type": "markdown",
   "metadata": {},
   "source": [
    "#### Задание\n",
    "\n",
    "Обучите модель с наилучшей глубиной.\n",
    "\n",
    "Отсортируйте признаки по важности. Вектор с важностью признаков можно получить с помощью `model.feature_importances_`"
   ]
  },
  {
   "cell_type": "code",
   "execution_count": null,
   "metadata": {},
   "outputs": [],
   "source": [
    "# Your Code Here"
   ]
  },
  {
   "cell_type": "markdown",
   "metadata": {},
   "source": [
    "#### Задание \n",
    "* Получите предсказания на тестовой выборке\n",
    "* Постройте ROC кривые для обучающей и тестовой выборок"
   ]
  },
  {
   "cell_type": "code",
   "execution_count": null,
   "metadata": {},
   "outputs": [],
   "source": [
    "# Your Code Here"
   ]
  },
  {
   "cell_type": "markdown",
   "metadata": {},
   "source": [
    "#### Задание\n",
    "Перейдем к модели случайного леса. Зафиксируем некоторую глубину дерева (можно звять оптимальное с предыдущих заданий).\n",
    "\n",
    "Сравните качество работы \n",
    "* Простого дерева решений\n",
    "* Бэггинга над 10,20,...,100 деревьями решений\n",
    "* Случайного леса с 10,20,...,100 деревьями решений\n",
    "\n",
    "Получите график, у которого по оси X откладывается количество деревьев, а по оси Y - качество классификации."
   ]
  },
  {
   "cell_type": "code",
   "execution_count": null,
   "metadata": {},
   "outputs": [],
   "source": [
    "from sklearn.ensemble import BaggingClassifier\n",
    "from sklearn.ensemble import RandomForestClassifier"
   ]
  },
  {
   "cell_type": "code",
   "execution_count": null,
   "metadata": {},
   "outputs": [],
   "source": [
    "# Your Code Here"
   ]
  },
  {
   "cell_type": "markdown",
   "metadata": {
    "collapsed": true
   },
   "source": [
    "#### Задание\n",
    "* С помощью GridSearchCV или RandomSearchCV подберите наиболее оптимальные параметры для случайного леса.\n",
    "* Для этих параметров сравните средние результаты по кросс-валидации и качество на контрольной выборке\n",
    "\n"
   ]
  },
  {
   "cell_type": "code",
   "execution_count": null,
   "metadata": {},
   "outputs": [],
   "source": [
    "from sklearn.model_selection import GridSearchCV\n",
    "from sklearn.model_selection import RandomizedSearchCV"
   ]
  },
  {
   "cell_type": "code",
   "execution_count": null,
   "metadata": {},
   "outputs": [],
   "source": [
    "# Your Code Here"
   ]
  }
 ],
 "metadata": {
  "anaconda-cloud": {},
  "kernelspec": {
   "display_name": "Python 3",
   "language": "python",
   "name": "python3"
  },
  "language_info": {
   "codemirror_mode": {
    "name": "ipython",
    "version": 3
   },
   "file_extension": ".py",
   "mimetype": "text/x-python",
   "name": "python",
   "nbconvert_exporter": "python",
   "pygments_lexer": "ipython3",
   "version": "3.6.5"
  },
  "nav_menu": {},
  "toc": {
   "base_numbering": 1,
   "nav_menu": {
    "height": "180px",
    "width": "253px"
   },
   "number_sections": false,
   "sideBar": true,
   "skip_h1_title": false,
   "title_cell": "Table of Contents",
   "title_sidebar": "Contents",
   "toc_cell": false,
   "toc_position": {
    "height": "calc(100% - 180px)",
    "left": "10px",
    "top": "150px",
    "width": "285.867px"
   },
   "toc_section_display": true,
   "toc_window_display": true
  },
  "toc_position": {
   "height": "80px",
   "left": "28px",
   "right": "862.667px",
   "top": "138px",
   "width": "176px"
  }
 },
 "nbformat": 4,
 "nbformat_minor": 1
}
