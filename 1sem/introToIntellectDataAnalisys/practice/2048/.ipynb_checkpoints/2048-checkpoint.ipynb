{
 "cells": [
  {
   "cell_type": "code",
   "execution_count": 1,
   "metadata": {},
   "outputs": [],
   "source": [
    "import numpy as np\n",
    "from math import log2"
   ]
  },
  {
   "cell_type": "code",
   "execution_count": 31,
   "metadata": {},
   "outputs": [],
   "source": [
    "class Game:\n",
    "    \n",
    "    def __init__(self):\n",
    "        self.field = np.zeros((4, 4), dtype=int)\n",
    "        self.points = 0\n",
    "    \n",
    "    def up(self):\n",
    "        self.move(0)\n",
    "    \n",
    "    def right(self):\n",
    "        self.move(1)\n",
    "    \n",
    "    def down(self):\n",
    "        self.move(2)\n",
    "    \n",
    "    def left(self):\n",
    "        self.move(3)\n",
    "    \n",
    "    def spawn(self):\n",
    "        positions = np.argwhere(self.field == 0)\n",
    "        if positions.shape[0] == 0:\n",
    "            print(\"GAME OVER\\nYOUR SCORE IS %D\" % self.points)\n",
    "            self.points = 0\n",
    "            self.field = np.zeros((4, 4), dtype=int)\n",
    "        choice = np.random.randint(0, len(positions), 1)[0]\n",
    "        position = positions[choice]\n",
    "        rng = np.random.rand(1)[0]\n",
    "        self.field[position[0]][position[1]] = 2 if rng < 0.9 else 4\n",
    "        print(self.field)\n",
    "        \n",
    "    def move(self, direction):\n",
    "        '''0 - up, 1 - right, 2 - down, 3 - left'''\n",
    "        if direction == 0:\n",
    "            #np.apply_along_axis(self.shift, 1, self.field)\n",
    "            for i in range(4):\n",
    "                col = self.field[:, i]\n",
    "                col = self.shift(col)\n",
    "                self.field[:, i] = col[::-1]\n",
    "        if direction == 2:\n",
    "            #np.apply_along_axis(self.shift, 1, self.field)\n",
    "            for i in range(4):\n",
    "                col = self.field[:, i]\n",
    "                col = self.shift(col)\n",
    "                self.field[:, i] = col\n",
    "        if direction == 1:\n",
    "            for j in range(4):\n",
    "                row = self.field[j]\n",
    "                row = self.shift(row)\n",
    "                self.field[j] = row\n",
    "        if direction == 3:\n",
    "            for j in range(4):\n",
    "                row = self.field[j]\n",
    "                row = self.shift(row)\n",
    "                self.field[j] = row[::-1]\n",
    "        print(self.field)\n",
    "        \n",
    "                \n",
    "    def streaming_sum(self, sequence):\n",
    "        values = reversed(sequence)\n",
    "        last = next(values)\n",
    "        for value in values:\n",
    "            if value == last:\n",
    "                if value > 0:\n",
    "                    n = int(log2(last + value))\n",
    "                    self.points += (n - 1) * (2 ** n)\n",
    "                yield last + value\n",
    "                last = 0\n",
    "            else:\n",
    "                yield last\n",
    "                last = value\n",
    "        yield last\n",
    "                \n",
    "    def streaming_sum_z(self, sequence):\n",
    "        pos = 0\n",
    "        last = sequence[0]\n",
    "        result = [0] * len(sequence)\n",
    "        for i in range(1, len(sequence)):\n",
    "            if \n",
    "\n",
    "    def shift(self, sequence):\n",
    "        length = len(sequence)\n",
    "        reduced = list(reversed(list(filter(None, self.streaming_sum(sequence)))))\n",
    "        return [0] * (length - len(reduced)) + reduced\n"
   ]
  },
  {
   "cell_type": "code",
   "execution_count": null,
   "metadata": {},
   "outputs": [],
   "source": []
  },
  {
   "cell_type": "code",
   "execution_count": 32,
   "metadata": {},
   "outputs": [],
   "source": [
    "g = Game()"
   ]
  },
  {
   "cell_type": "code",
   "execution_count": 37,
   "metadata": {},
   "outputs": [
    {
     "name": "stdout",
     "output_type": "stream",
     "text": [
      "[[2 0 0 2]\n",
      " [0 2 0 0]\n",
      " [0 0 0 0]\n",
      " [0 0 2 2]]\n"
     ]
    }
   ],
   "source": [
    "g.spawn()"
   ]
  },
  {
   "cell_type": "code",
   "execution_count": 38,
   "metadata": {},
   "outputs": [
    {
     "name": "stdout",
     "output_type": "stream",
     "text": [
      "[2 0 0 0]\n",
      "[0 2 0 0]\n",
      "[0 0 0 2]\n",
      "[2 0 0 2]\n",
      "[[0 0 0 0]\n",
      " [0 0 0 0]\n",
      " [0 0 0 2]\n",
      " [2 2 2 2]]\n"
     ]
    }
   ],
   "source": [
    "g.down()"
   ]
  },
  {
   "cell_type": "code",
   "execution_count": 401,
   "metadata": {},
   "outputs": [
    {
     "data": {
      "text/plain": [
       "[0, 0, 2, 2]"
      ]
     },
     "execution_count": 401,
     "metadata": {},
     "output_type": "execute_result"
    }
   ],
   "source": [
    "g.shift([0,2, 0, 2])"
   ]
  },
  {
   "cell_type": "code",
   "execution_count": null,
   "metadata": {},
   "outputs": [],
   "source": []
  }
 ],
 "metadata": {
  "kernelspec": {
   "display_name": "Python 3",
   "language": "python",
   "name": "python3"
  },
  "language_info": {
   "codemirror_mode": {
    "name": "ipython",
    "version": 3
   },
   "file_extension": ".py",
   "mimetype": "text/x-python",
   "name": "python",
   "nbconvert_exporter": "python",
   "pygments_lexer": "ipython3",
   "version": "3.6.5"
  }
 },
 "nbformat": 4,
 "nbformat_minor": 2
}
