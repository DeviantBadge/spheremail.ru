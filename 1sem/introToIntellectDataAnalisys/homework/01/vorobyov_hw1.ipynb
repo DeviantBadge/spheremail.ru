{
 "cells": [
  {
   "cell_type": "markdown",
   "metadata": {},
   "source": [
    "**Общая информация**\n",
    "\n",
    "**Срок сдачи:** 18 октября 2017, 06:00 <br\\>\n",
    "**Штраф за опоздание:** -2 балла после 06:00 18 октября, -4 балла после 06:00 25 октября, -6 баллов после 06:00 1 ноября\n",
    "\n",
    "При отправлении ДЗ указывайте фамилию в названии файла\n",
    "Присылать ДЗ необходимо в виде ссылки на свой github репозиторий в slack @alkhamush\n",
    "\n",
    "Необходимо в slack создать таск в приватный чат:\n",
    "/todo Фамилия Имя ссылка на гитхаб @alkhamush\n",
    "Пример:\n",
    "/todo Ксения Стройкова https://github.com/stroykova/spheremailru/stroykova_hw1.ipynb @alkhamush\n",
    "Дополнительно нужно просто скинуть ссылку в slack в личный чат\n",
    "\n",
    "Используйте данный Ipython Notebook при оформлении домашнего задания."
   ]
  },
  {
   "cell_type": "markdown",
   "metadata": {},
   "source": [
    "###### Задание 1 (2 баллов)\n",
    "Реализовать KNN в классе MyKNeighborsClassifier (обязательное условие: точность не ниже sklearn реализации)\n",
    "Разберитесь самостоятельно, какая мера расстояния используется в KNeighborsClassifier дефолтно и реализуйте свой алгоритм именно с этой мерой. Самостоятельно разберитесь, как считается score из KNeighborsClassifier и реализуйте аналог в своём классе. Score не должен уступать значению KNN из sklearn\n",
    "\n",
    "###### Задание 2 (2 балла)\n",
    "Добиться скорости работы на fit,  predict и predict_proba сравнимой со sklearn для iris и mnist\n",
    "Для этого используем numpy\n",
    "\n",
    "###### Задание 3 (2 балла)\n",
    "Для iris найдите такой параметр n_neighbors, при котором выдаётся наилучший score. Нарисуйте график зависимости score от n_neighbors\n",
    "\n",
    "###### Задание 4 (3 балла)\n",
    "Добавить algorithm='kd_tree' в реализацию KNN (использовать KDTree из sklearn.neighbors). Значение n_neighbors нужно взять из задания 3. Добиться скорости работы на fit,  predict и predict_proba сравнимой со sklearn для iris и mnist\n",
    "Для этого используем numpy. Score не должен уступать значению KNN из sklearn\n",
    "\n",
    "###### Задание 5 (1 балла)\n",
    "Описать для чего нужны следующие библиотеки/классы/функции (список будет ниже)\n",
    "\n",
    "**Штрафные баллы:**\n",
    "\n",
    "1. Невыполнение PEP8 -1 балл\n",
    "2. Отсутствие фамилии в имени скрипта (скрипт должен называться по аналогии со stroykova_hw1.ipynb) -1 балл\n",
    "3. Все строчки должны быть выполнены. Нужно, чтобы output команды можно было увидеть уже в git'е. В противном случае -1 балл\n",
    "4. При оформлении ДЗ нужно пользоваться данным файлом в качестве шаблона. Не нужно удалять и видоизменять структуру кода и текст. В противном случае -1 балл\n"
   ]
  },
  {
   "cell_type": "code",
   "execution_count": 1,
   "metadata": {},
   "outputs": [],
   "source": [
    "import numpy as np\n",
    "import matplotlib.pyplot as plt\n",
    "\n",
    "import seaborn as sns\n",
    "from sklearn import metrics\n",
    "from sklearn import datasets\n",
    "from sklearn.base import ClassifierMixin\n",
    "from sklearn.datasets import fetch_mldata\n",
    "from sklearn.neighbors.base import NeighborsBase, KNeighborsMixin, SupervisedIntegerMixin\n",
    "from sklearn.model_selection import train_test_split\n",
    "from sklearn.neighbors import KNeighborsClassifier, KDTree\n",
    "\n",
    "# %load_ext pycodestyle_magic"
   ]
  },
  {
   "cell_type": "code",
   "execution_count": 2,
   "metadata": {},
   "outputs": [],
   "source": [
    "# %%pycodestyle\n",
    "\n",
    "class MyKNeighborsClassifier(NeighborsBase, KNeighborsMixin,\n",
    "                             SupervisedIntegerMixin, ClassifierMixin):\n",
    "\n",
    "    def __init__(self, n_neighbors, algorithm='brute'):\n",
    "        self.neighbors_amount = n_neighbors\n",
    "        self.algorithm = algorithm\n",
    "        self.x_data = None\n",
    "        self.x_tree = None\n",
    "        self.y_data = None\n",
    "        self.y_classes = None\n",
    "        self.classes_amount = None\n",
    "\n",
    "    def fit(self, X, y):\n",
    "        self.y_data = np.array(y).astype(int)\n",
    "        self.y_classes = np.unique(y)\n",
    "        self.classes_amount = len(np.unique(y))\n",
    "        if self.algorithm == 'brute':\n",
    "            self.x_data = np.array(X).astype(float)\n",
    "        if self.algorithm == 'kd_tree':\n",
    "            self.x_tree = KDTree(np.array(X).astype(float))\n",
    "\n",
    "    def predict(self, X):\n",
    "        return np.apply_along_axis(\n",
    "            _find_mode,\n",
    "            1,\n",
    "            self._nearest_classes(X))\n",
    "\n",
    "    def predict_proba(self, X):\n",
    "        return np.apply_along_axis(\n",
    "            self._nearest_classes_probability,\n",
    "            1,\n",
    "            self._nearest_classes(X)\n",
    "        )\n",
    "\n",
    "    def _nearest_classes_probability(self, arr):\n",
    "        return np.bincount(arr, minlength=self.classes_amount) / self.neighbors_amount\n",
    "\n",
    "    def _nearest_classes(self, X):\n",
    "        indexes = None\n",
    "        if self.algorithm == 'brute':\n",
    "            X = X.astype(float)\n",
    "            distances = metrics.pairwise_distances(X, self.x_data)\n",
    "            indexes = distances.argpartition(self.neighbors_amount)[:, :self.neighbors_amount]\n",
    "        if self.algorithm == 'kd_tree':\n",
    "            _, indexes = self.x_tree.query(X, k=self.neighbors_amount)\n",
    "        return self.y_data[indexes]\n",
    "\n",
    "    def score(self, X, y):\n",
    "        return len([1 for i, x in enumerate(self.predict(X)) if x == y[i]]) / len(y)\n",
    "\n",
    "\n",
    "def _find_mode(raw_array):\n",
    "    return np.bincount(raw_array).argmax()"
   ]
  },
  {
   "cell_type": "markdown",
   "metadata": {},
   "source": [
    "**IRIS**"
   ]
  },
  {
   "cell_type": "code",
   "execution_count": 3,
   "metadata": {},
   "outputs": [],
   "source": [
    "iris = datasets.load_iris()"
   ]
  },
  {
   "cell_type": "code",
   "execution_count": 4,
   "metadata": {},
   "outputs": [],
   "source": [
    "X_train, X_test, y_train, y_test = train_test_split(iris.data, iris.target, test_size=0.1, stratify=iris.target)"
   ]
  },
  {
   "cell_type": "code",
   "execution_count": 5,
   "metadata": {},
   "outputs": [],
   "source": [
    "clf = KNeighborsClassifier(n_neighbors=2)\n",
    "my_clf = MyKNeighborsClassifier(n_neighbors=2)"
   ]
  },
  {
   "cell_type": "code",
   "execution_count": 6,
   "metadata": {},
   "outputs": [
    {
     "name": "stdout",
     "output_type": "stream",
     "text": [
      "Wall time: 958 µs\n"
     ]
    },
    {
     "data": {
      "text/plain": [
       "KNeighborsClassifier(algorithm='auto', leaf_size=30, metric='minkowski',\n",
       "           metric_params=None, n_jobs=1, n_neighbors=2, p=2,\n",
       "           weights='uniform')"
      ]
     },
     "execution_count": 6,
     "metadata": {},
     "output_type": "execute_result"
    }
   ],
   "source": [
    "%time clf.fit(X_train, y_train)"
   ]
  },
  {
   "cell_type": "code",
   "execution_count": 7,
   "metadata": {},
   "outputs": [
    {
     "name": "stdout",
     "output_type": "stream",
     "text": [
      "Wall time: 0 ns\n"
     ]
    }
   ],
   "source": [
    "%time my_clf.fit(X_train, y_train)"
   ]
  },
  {
   "cell_type": "code",
   "execution_count": 8,
   "metadata": {},
   "outputs": [
    {
     "name": "stdout",
     "output_type": "stream",
     "text": [
      "Wall time: 1.99 ms\n"
     ]
    },
    {
     "data": {
      "text/plain": [
       "array([2, 0, 1, 2, 0, 0, 2, 2, 1, 0, 2, 0, 2, 1, 1])"
      ]
     },
     "execution_count": 8,
     "metadata": {},
     "output_type": "execute_result"
    }
   ],
   "source": [
    "%time clf.predict(X_test)"
   ]
  },
  {
   "cell_type": "code",
   "execution_count": 9,
   "metadata": {},
   "outputs": [
    {
     "name": "stdout",
     "output_type": "stream",
     "text": [
      "Wall time: 6.98 ms\n"
     ]
    },
    {
     "data": {
      "text/plain": [
       "array([2, 0, 1, 2, 0, 0, 2, 2, 1, 0, 2, 0, 2, 1, 1], dtype=int64)"
      ]
     },
     "execution_count": 9,
     "metadata": {},
     "output_type": "execute_result"
    }
   ],
   "source": [
    "%time my_clf.predict(X_test)"
   ]
  },
  {
   "cell_type": "code",
   "execution_count": 10,
   "metadata": {},
   "outputs": [
    {
     "name": "stdout",
     "output_type": "stream",
     "text": [
      "Wall time: 1.96 ms\n"
     ]
    },
    {
     "data": {
      "text/plain": [
       "array([[0., 0., 1.],\n",
       "       [1., 0., 0.],\n",
       "       [0., 1., 0.],\n",
       "       [0., 0., 1.],\n",
       "       [1., 0., 0.],\n",
       "       [1., 0., 0.],\n",
       "       [0., 0., 1.],\n",
       "       [0., 0., 1.],\n",
       "       [0., 1., 0.],\n",
       "       [1., 0., 0.],\n",
       "       [0., 0., 1.],\n",
       "       [1., 0., 0.],\n",
       "       [0., 0., 1.],\n",
       "       [0., 1., 0.],\n",
       "       [0., 1., 0.]])"
      ]
     },
     "execution_count": 10,
     "metadata": {},
     "output_type": "execute_result"
    }
   ],
   "source": [
    "%time clf.predict_proba(X_test)"
   ]
  },
  {
   "cell_type": "code",
   "execution_count": 11,
   "metadata": {},
   "outputs": [
    {
     "name": "stdout",
     "output_type": "stream",
     "text": [
      "Wall time: 958 µs\n"
     ]
    },
    {
     "data": {
      "text/plain": [
       "array([[0., 0., 1.],\n",
       "       [1., 0., 0.],\n",
       "       [0., 1., 0.],\n",
       "       [0., 0., 1.],\n",
       "       [1., 0., 0.],\n",
       "       [1., 0., 0.],\n",
       "       [0., 0., 1.],\n",
       "       [0., 0., 1.],\n",
       "       [0., 1., 0.],\n",
       "       [1., 0., 0.],\n",
       "       [0., 0., 1.],\n",
       "       [1., 0., 0.],\n",
       "       [0., 0., 1.],\n",
       "       [0., 1., 0.],\n",
       "       [0., 1., 0.]])"
      ]
     },
     "execution_count": 11,
     "metadata": {},
     "output_type": "execute_result"
    }
   ],
   "source": [
    "%time my_clf.predict_proba(X_test)"
   ]
  },
  {
   "cell_type": "code",
   "execution_count": 12,
   "metadata": {},
   "outputs": [
    {
     "data": {
      "text/plain": [
       "0.9333333333333333"
      ]
     },
     "execution_count": 12,
     "metadata": {},
     "output_type": "execute_result"
    }
   ],
   "source": [
    "clf.score(X_test, y_test)"
   ]
  },
  {
   "cell_type": "code",
   "execution_count": 13,
   "metadata": {},
   "outputs": [
    {
     "data": {
      "text/plain": [
       "0.9333333333333333"
      ]
     },
     "execution_count": 13,
     "metadata": {},
     "output_type": "execute_result"
    }
   ],
   "source": [
    "my_clf.score(X_test, y_test)"
   ]
  },
  {
   "cell_type": "markdown",
   "metadata": {},
   "source": [
    "Задание 3"
   ]
  },
  {
   "cell_type": "code",
   "execution_count": 14,
   "metadata": {},
   "outputs": [],
   "source": [
    "def score_measure(neighbors, test_amount):\n",
    "    result = np.zeros(neighbors, float)\n",
    "    for i in range(neighbors):\n",
    "        res_per_neighbour = np.zeros(test_amount, dtype=float)\n",
    "        for j in range(test_amount):\n",
    "            X_train, X_test, y_train, y_test = train_test_split(iris.data, iris.target, test_size=0.1,\n",
    "                                                                stratify=iris.target)\n",
    "            model = MyKNeighborsClassifier(i + 1)\n",
    "            model.fit(X_train, y_train)\n",
    "            res_per_neighbour[j] = model.score(X_test, y_test)\n",
    "        result[i] = res_per_neighbour.mean()\n",
    "    return result"
   ]
  },
  {
   "cell_type": "code",
   "execution_count": 15,
   "metadata": {},
   "outputs": [
    {
     "data": {
      "text/plain": [
       "'Best neighbors amount is - 17'"
      ]
     },
     "execution_count": 15,
     "metadata": {},
     "output_type": "execute_result"
    }
   ],
   "source": [
    "neighbors = 30\n",
    "test_amount = 10000\n",
    "score_result = score_measure(neighbors, test_amount)\n",
    "\"Best neighbors amount is - {}\".format(score_result.argmax() + 1)"
   ]
  },
  {
   "cell_type": "code",
   "execution_count": 16,
   "metadata": {},
   "outputs": [
    {
     "data": {
      "image/png": "[encoded data removed]",
      "text/plain": [
       "<Figure size 432x288 with 1 Axes>"
      ]
     },
     "metadata": {},
     "output_type": "display_data"
    }
   ],
   "source": [
    "plt.plot(range(1, neighbors + 1), score_result)\n",
    "plt.xlabel(\"neighbors amount\")\n",
    "plt.ylabel(\"mean score over {} loops\".format(test_amount))\n",
    "plt.title(\"grid search result\")\n",
    "plt.show()"
   ]
  },
  {
   "cell_type": "markdown",
   "metadata": {},
   "source": [
    "**MNIST**"
   ]
  },
  {
   "cell_type": "code",
   "execution_count": 17,
   "metadata": {},
   "outputs": [],
   "source": [
    "mnist = fetch_mldata('MNIST original')"
   ]
  },
  {
   "cell_type": "code",
   "execution_count": 18,
   "metadata": {},
   "outputs": [],
   "source": [
    "X_train, X_test, y_train, y_test = train_test_split(mnist.data, mnist.target, test_size=0.01, stratify=mnist.target)"
   ]
  },
  {
   "cell_type": "code",
   "execution_count": 19,
   "metadata": {},
   "outputs": [],
   "source": [
    "clf = KNeighborsClassifier(n_neighbors=2)\n",
    "my_clf = MyKNeighborsClassifier(n_neighbors=2)"
   ]
  },
  {
   "cell_type": "code",
   "execution_count": 20,
   "metadata": {},
   "outputs": [
    {
     "name": "stdout",
     "output_type": "stream",
     "text": [
      "Wall time: 42.9 s\n"
     ]
    },
    {
     "data": {
      "text/plain": [
       "KNeighborsClassifier(algorithm='auto', leaf_size=30, metric='minkowski',\n",
       "           metric_params=None, n_jobs=1, n_neighbors=2, p=2,\n",
       "           weights='uniform')"
      ]
     },
     "execution_count": 20,
     "metadata": {},
     "output_type": "execute_result"
    }
   ],
   "source": [
    "%time clf.fit(X_train, y_train)"
   ]
  },
  {
   "cell_type": "code",
   "execution_count": 21,
   "metadata": {},
   "outputs": [
    {
     "name": "stdout",
     "output_type": "stream",
     "text": [
      "Wall time: 298 ms\n"
     ]
    }
   ],
   "source": [
    "%time my_clf.fit(X_train, y_train)"
   ]
  },
  {
   "cell_type": "code",
   "execution_count": 22,
   "metadata": {},
   "outputs": [
    {
     "name": "stdout",
     "output_type": "stream",
     "text": [
      "Wall time: 2min 17s\n"
     ]
    },
    {
     "data": {
      "text/plain": [
       "array([4., 6., 2., 8., 1., 2., 8., 3., 5., 2., 4., 5., 3., 1., 2., 9., 4.,\n",
       "       6., 6., 2., 4., 1., 8., 0., 4., 1., 8., 8., 3., 6., 3., 5., 6., 2.,\n",
       "       9., 6., 2., 3., 7., 3., 1., 6., 9., 7., 0., 2., 0., 7., 2., 5., 4.,\n",
       "       0., 0., 3., 6., 9., 5., 7., 7., 1., 0., 5., 3., 7., 9., 1., 6., 5.,\n",
       "       6., 3., 1., 3., 2., 1., 6., 6., 7., 5., 3., 1., 8., 2., 2., 2., 9.,\n",
       "       7., 5., 1., 5., 7., 6., 6., 9., 5., 1., 1., 7., 1., 3., 2., 8., 9.,\n",
       "       4., 0., 4., 9., 1., 7., 7., 0., 8., 6., 3., 4., 7., 8., 7., 4., 0.,\n",
       "       8., 2., 6., 7., 2., 2., 7., 1., 6., 1., 9., 8., 5., 1., 3., 0., 0.,\n",
       "       5., 4., 6., 2., 8., 5., 0., 9., 5., 1., 3., 3., 9., 2., 4., 6., 0.,\n",
       "       9., 3., 0., 0., 0., 3., 7., 0., 8., 1., 6., 3., 1., 7., 9., 8., 2.,\n",
       "       0., 4., 7., 5., 3., 6., 2., 9., 8., 3., 9., 4., 9., 4., 0., 2., 9.,\n",
       "       9., 9., 3., 6., 2., 5., 4., 8., 8., 4., 1., 8., 1., 8., 9., 2., 8.,\n",
       "       7., 1., 0., 7., 4., 9., 3., 7., 4., 6., 2., 7., 2., 1., 1., 2., 7.,\n",
       "       1., 3., 3., 7., 9., 0., 5., 8., 7., 7., 2., 4., 4., 9., 0., 9., 6.,\n",
       "       4., 3., 6., 1., 9., 5., 1., 4., 4., 9., 2., 5., 4., 5., 2., 3., 7.,\n",
       "       0., 5., 1., 1., 2., 2., 9., 3., 4., 1., 1., 4., 1., 7., 5., 0., 6.,\n",
       "       2., 3., 0., 9., 3., 1., 9., 1., 2., 1., 4., 6., 3., 5., 8., 1., 7.,\n",
       "       3., 8., 0., 4., 1., 8., 9., 8., 4., 8., 9., 0., 9., 0., 8., 3., 5.,\n",
       "       3., 2., 8., 0., 6., 0., 0., 2., 6., 5., 9., 0., 9., 0., 3., 4., 4.,\n",
       "       2., 2., 0., 9., 7., 7., 3., 6., 7., 6., 4., 3., 7., 7., 6., 0., 1.,\n",
       "       1., 1., 0., 1., 9., 5., 5., 8., 3., 0., 6., 3., 4., 8., 7., 2., 1.,\n",
       "       2., 1., 9., 2., 1., 6., 5., 0., 5., 9., 1., 6., 0., 7., 2., 1., 0.,\n",
       "       8., 3., 9., 1., 6., 5., 1., 7., 5., 2., 7., 4., 7., 5., 2., 6., 2.,\n",
       "       7., 1., 4., 6., 1., 1., 4., 1., 4., 6., 4., 7., 4., 7., 5., 8., 2.,\n",
       "       3., 3., 1., 0., 4., 3., 3., 4., 4., 9., 5., 9., 7., 0., 9., 6., 2.,\n",
       "       3., 2., 7., 0., 5., 6., 1., 2., 7., 7., 6., 7., 1., 7., 5., 1., 8.,\n",
       "       5., 6., 6., 0., 2., 5., 5., 5., 4., 7., 5., 6., 4., 6., 1., 6., 8.,\n",
       "       4., 4., 0., 3., 4., 8., 3., 6., 9., 7., 1., 0., 6., 5., 5., 4., 8.,\n",
       "       2., 4., 3., 6., 1., 8., 3., 6., 3., 9., 0., 3., 7., 0., 8., 7., 2.,\n",
       "       6., 7., 5., 8., 4., 7., 9., 8., 1., 8., 2., 2., 8., 3., 3., 3., 9.,\n",
       "       8., 3., 5., 1., 1., 1., 0., 4., 6., 3., 6., 7., 2., 1., 5., 5., 6.,\n",
       "       8., 0., 0., 0., 8., 7., 7., 7., 5., 0., 3., 5., 2., 1., 8., 4., 3.,\n",
       "       1., 7., 4., 9., 3., 7., 8., 1., 7., 1., 7., 3., 1., 1., 5., 7., 1.,\n",
       "       4., 0., 9., 6., 0., 7., 0., 5., 6., 2., 0., 1., 7., 7., 9., 5., 9.,\n",
       "       0., 3., 9., 3., 4., 8., 9., 0., 4., 9., 2., 6., 0., 2., 6., 6., 8.,\n",
       "       6., 5., 9., 6., 6., 8., 3., 6., 3., 1., 4., 1., 7., 8., 4., 1., 2.,\n",
       "       4., 0., 3., 0., 8., 4., 4., 5., 8., 7., 2., 8., 7., 7., 7., 9., 8.,\n",
       "       3., 0., 6., 9., 1., 2., 6., 1., 2., 2., 5., 5., 6., 5., 4., 9., 9.,\n",
       "       5., 2., 2., 1., 9., 2., 2., 4., 0., 3., 8., 3., 6., 3., 8., 0., 4.,\n",
       "       8., 8., 4., 2., 5., 9., 0., 6., 8., 3., 0., 2., 6., 0., 9., 3., 1.,\n",
       "       2., 4., 7., 6., 4., 8., 9., 7., 7., 0., 1., 1., 0., 3., 5., 4., 5.,\n",
       "       9., 3., 1.])"
      ]
     },
     "execution_count": 22,
     "metadata": {},
     "output_type": "execute_result"
    }
   ],
   "source": [
    "%time clf.predict(X_test)"
   ]
  },
  {
   "cell_type": "code",
   "execution_count": 23,
   "metadata": {},
   "outputs": [
    {
     "name": "stdout",
     "output_type": "stream",
     "text": [
      "Wall time: 2.33 s\n"
     ]
    },
    {
     "data": {
      "text/plain": [
       "array([4, 6, 2, 8, 1, 2, 8, 3, 5, 2, 4, 5, 3, 1, 2, 9, 4, 6, 6, 2, 4, 1,\n",
       "       8, 0, 4, 1, 8, 8, 3, 6, 3, 5, 6, 2, 9, 6, 2, 3, 7, 3, 1, 6, 9, 7,\n",
       "       0, 2, 0, 7, 2, 5, 4, 0, 0, 3, 6, 9, 5, 7, 7, 1, 0, 5, 3, 7, 9, 1,\n",
       "       6, 5, 6, 3, 1, 3, 2, 1, 6, 6, 7, 5, 3, 1, 8, 2, 2, 2, 9, 7, 5, 1,\n",
       "       5, 7, 6, 6, 9, 5, 1, 1, 7, 1, 3, 2, 8, 9, 4, 0, 4, 9, 1, 7, 7, 0,\n",
       "       8, 6, 3, 4, 7, 8, 7, 4, 0, 8, 2, 6, 7, 2, 2, 7, 1, 6, 1, 9, 8, 5,\n",
       "       1, 3, 0, 0, 5, 4, 6, 2, 8, 5, 0, 9, 5, 1, 3, 3, 9, 2, 4, 6, 0, 9,\n",
       "       3, 0, 0, 0, 3, 7, 0, 8, 1, 6, 3, 1, 7, 9, 8, 2, 0, 4, 7, 5, 3, 6,\n",
       "       2, 9, 8, 3, 9, 4, 9, 4, 0, 2, 9, 9, 9, 3, 6, 2, 5, 4, 8, 8, 4, 1,\n",
       "       8, 1, 8, 9, 2, 8, 7, 1, 0, 7, 4, 9, 3, 7, 4, 6, 2, 7, 2, 1, 1, 2,\n",
       "       7, 1, 3, 3, 7, 9, 0, 5, 8, 7, 7, 2, 4, 4, 9, 0, 9, 6, 4, 3, 6, 1,\n",
       "       9, 5, 1, 4, 4, 9, 2, 5, 4, 5, 2, 3, 7, 0, 5, 1, 1, 2, 2, 9, 3, 4,\n",
       "       1, 1, 4, 1, 7, 5, 0, 6, 2, 3, 0, 9, 3, 1, 9, 1, 2, 1, 4, 6, 3, 5,\n",
       "       8, 1, 7, 3, 8, 0, 4, 1, 8, 9, 8, 4, 8, 9, 0, 9, 0, 8, 3, 5, 3, 2,\n",
       "       8, 0, 6, 0, 0, 2, 6, 5, 9, 0, 9, 0, 3, 4, 4, 2, 2, 0, 9, 7, 7, 3,\n",
       "       6, 7, 6, 4, 3, 7, 7, 6, 0, 1, 1, 1, 0, 1, 9, 5, 5, 8, 3, 0, 6, 3,\n",
       "       4, 8, 7, 2, 1, 2, 1, 9, 2, 1, 6, 5, 0, 5, 9, 1, 6, 0, 7, 2, 1, 0,\n",
       "       8, 3, 9, 1, 6, 5, 1, 7, 5, 2, 7, 4, 7, 5, 2, 6, 2, 7, 1, 4, 6, 1,\n",
       "       1, 4, 1, 4, 6, 4, 7, 4, 7, 5, 8, 2, 3, 3, 1, 0, 4, 3, 3, 4, 4, 9,\n",
       "       5, 9, 7, 0, 9, 6, 2, 3, 2, 7, 0, 5, 6, 1, 2, 7, 7, 6, 7, 1, 7, 5,\n",
       "       1, 8, 5, 6, 6, 0, 2, 5, 5, 5, 4, 7, 5, 6, 4, 6, 1, 6, 8, 4, 4, 0,\n",
       "       3, 4, 8, 3, 6, 9, 7, 1, 0, 6, 5, 5, 4, 8, 2, 4, 3, 6, 1, 8, 3, 6,\n",
       "       3, 9, 0, 3, 7, 0, 8, 7, 2, 6, 7, 5, 8, 4, 7, 9, 8, 1, 8, 2, 2, 8,\n",
       "       3, 3, 3, 9, 8, 3, 5, 1, 1, 1, 0, 4, 6, 3, 6, 7, 2, 1, 5, 5, 6, 8,\n",
       "       0, 0, 0, 8, 7, 7, 7, 5, 0, 3, 5, 2, 1, 8, 4, 3, 1, 7, 4, 9, 3, 7,\n",
       "       8, 1, 7, 1, 7, 3, 1, 1, 5, 7, 1, 4, 0, 9, 6, 0, 7, 0, 5, 6, 2, 0,\n",
       "       1, 7, 7, 9, 5, 9, 0, 3, 9, 3, 4, 8, 9, 0, 4, 9, 2, 6, 0, 2, 6, 6,\n",
       "       8, 6, 5, 9, 6, 6, 8, 3, 6, 3, 1, 4, 1, 7, 8, 4, 1, 2, 4, 0, 3, 0,\n",
       "       8, 4, 4, 5, 8, 7, 2, 8, 7, 7, 7, 9, 8, 3, 0, 6, 9, 1, 2, 6, 1, 2,\n",
       "       2, 5, 5, 6, 5, 4, 9, 9, 5, 2, 2, 1, 9, 2, 2, 4, 0, 3, 8, 3, 6, 3,\n",
       "       8, 0, 4, 8, 8, 4, 2, 5, 9, 0, 6, 8, 3, 0, 2, 6, 0, 9, 3, 1, 2, 4,\n",
       "       7, 6, 4, 8, 9, 7, 7, 0, 1, 1, 0, 3, 5, 4, 5, 9, 3, 1], dtype=int64)"
      ]
     },
     "execution_count": 23,
     "metadata": {},
     "output_type": "execute_result"
    }
   ],
   "source": [
    "%time my_clf.predict(X_test)"
   ]
  },
  {
   "cell_type": "code",
   "execution_count": 24,
   "metadata": {},
   "outputs": [
    {
     "name": "stdout",
     "output_type": "stream",
     "text": [
      "Wall time: 2min 19s\n"
     ]
    },
    {
     "data": {
      "text/plain": [
       "array([[0., 0., 0., ..., 0., 0., 0.],\n",
       "       [0., 0., 0., ..., 0., 0., 0.],\n",
       "       [0., 0., 1., ..., 0., 0., 0.],\n",
       "       ...,\n",
       "       [0., 0., 0., ..., 0., 0., 1.],\n",
       "       [0., 0., 0., ..., 0., 0., 0.],\n",
       "       [0., 1., 0., ..., 0., 0., 0.]])"
      ]
     },
     "execution_count": 24,
     "metadata": {},
     "output_type": "execute_result"
    }
   ],
   "source": [
    "%time clf.predict_proba(X_test)"
   ]
  },
  {
   "cell_type": "code",
   "execution_count": 25,
   "metadata": {},
   "outputs": [
    {
     "name": "stdout",
     "output_type": "stream",
     "text": [
      "Wall time: 2.4 s\n"
     ]
    },
    {
     "data": {
      "text/plain": [
       "array([[0., 0., 0., ..., 0., 0., 0.],\n",
       "       [0., 0., 0., ..., 0., 0., 0.],\n",
       "       [0., 0., 1., ..., 0., 0., 0.],\n",
       "       ...,\n",
       "       [0., 0., 0., ..., 0., 0., 1.],\n",
       "       [0., 0., 0., ..., 0., 0., 0.],\n",
       "       [0., 1., 0., ..., 0., 0., 0.]])"
      ]
     },
     "execution_count": 25,
     "metadata": {},
     "output_type": "execute_result"
    }
   ],
   "source": [
    "%time my_clf.predict_proba(X_test)"
   ]
  },
  {
   "cell_type": "code",
   "execution_count": 26,
   "metadata": {},
   "outputs": [
    {
     "data": {
      "text/plain": [
       "0.9628571428571429"
      ]
     },
     "execution_count": 26,
     "metadata": {},
     "output_type": "execute_result"
    }
   ],
   "source": [
    "clf.score(X_test, y_test)"
   ]
  },
  {
   "cell_type": "code",
   "execution_count": 27,
   "metadata": {},
   "outputs": [
    {
     "data": {
      "text/plain": [
       "0.9628571428571429"
      ]
     },
     "execution_count": 27,
     "metadata": {},
     "output_type": "execute_result"
    }
   ],
   "source": [
    "my_clf.score(X_test, y_test)"
   ]
  },
  {
   "cell_type": "markdown",
   "metadata": {},
   "source": [
    "Задание 4"
   ]
  },
  {
   "cell_type": "code",
   "execution_count": 28,
   "metadata": {},
   "outputs": [],
   "source": [
    "clf = KNeighborsClassifier(n_neighbors=2, algorithm='kd_tree')\n",
    "my_clf = MyKNeighborsClassifier(n_neighbors=2, algorithm='kd_tree')"
   ]
  },
  {
   "cell_type": "code",
   "execution_count": 29,
   "metadata": {},
   "outputs": [],
   "source": [
    "X_train, X_test, y_train, y_test = train_test_split(mnist.data, mnist.target, test_size=0.01, stratify=mnist.target)"
   ]
  },
  {
   "cell_type": "code",
   "execution_count": 30,
   "metadata": {},
   "outputs": [
    {
     "name": "stdout",
     "output_type": "stream",
     "text": [
      "Wall time: 42.9 s\n"
     ]
    },
    {
     "data": {
      "text/plain": [
       "KNeighborsClassifier(algorithm='kd_tree', leaf_size=30, metric='minkowski',\n",
       "           metric_params=None, n_jobs=1, n_neighbors=2, p=2,\n",
       "           weights='uniform')"
      ]
     },
     "execution_count": 30,
     "metadata": {},
     "output_type": "execute_result"
    }
   ],
   "source": [
    "%time clf.fit(X_train, y_train)"
   ]
  },
  {
   "cell_type": "code",
   "execution_count": 31,
   "metadata": {},
   "outputs": [
    {
     "name": "stdout",
     "output_type": "stream",
     "text": [
      "Wall time: 41.7 s\n"
     ]
    }
   ],
   "source": [
    "%time my_clf.fit(X_train, y_train)"
   ]
  },
  {
   "cell_type": "code",
   "execution_count": 32,
   "metadata": {},
   "outputs": [
    {
     "name": "stdout",
     "output_type": "stream",
     "text": [
      "Wall time: 2min 18s\n"
     ]
    },
    {
     "data": {
      "text/plain": [
       "array([2., 9., 0., 1., 1., 3., 4., 1., 5., 9., 3., 7., 0., 9., 3., 2., 8.,\n",
       "       6., 4., 6., 9., 1., 9., 0., 6., 6., 0., 0., 7., 0., 5., 8., 7., 6.,\n",
       "       5., 7., 5., 5., 5., 7., 7., 5., 1., 5., 4., 3., 4., 3., 0., 5., 3.,\n",
       "       0., 4., 7., 8., 8., 7., 8., 6., 9., 0., 1., 9., 2., 2., 3., 5., 2.,\n",
       "       8., 3., 7., 4., 4., 7., 7., 2., 4., 0., 4., 9., 1., 2., 6., 2., 0.,\n",
       "       4., 1., 9., 4., 0., 0., 0., 3., 0., 5., 3., 9., 7., 5., 1., 2., 0.,\n",
       "       5., 4., 7., 0., 6., 9., 8., 4., 7., 3., 7., 0., 4., 6., 3., 0., 8.,\n",
       "       6., 3., 3., 7., 6., 1., 1., 4., 2., 2., 4., 9., 1., 5., 3., 4., 8.,\n",
       "       7., 4., 6., 3., 8., 1., 7., 0., 1., 0., 8., 9., 5., 2., 1., 4., 3.,\n",
       "       9., 2., 8., 2., 2., 4., 1., 1., 9., 0., 8., 6., 6., 4., 9., 3., 0.,\n",
       "       1., 5., 2., 6., 2., 5., 6., 5., 8., 7., 9., 1., 1., 1., 7., 8., 2.,\n",
       "       7., 9., 5., 3., 9., 5., 8., 2., 5., 2., 9., 6., 5., 2., 9., 3., 4.,\n",
       "       2., 7., 3., 2., 1., 4., 6., 1., 8., 0., 8., 9., 1., 1., 4., 2., 5.,\n",
       "       3., 3., 6., 6., 9., 6., 5., 4., 8., 3., 0., 6., 3., 5., 5., 8., 6.,\n",
       "       5., 9., 9., 9., 1., 8., 2., 0., 1., 0., 6., 2., 9., 3., 1., 5., 7.,\n",
       "       4., 3., 7., 1., 1., 4., 4., 2., 9., 8., 7., 6., 2., 7., 3., 8., 8.,\n",
       "       9., 0., 1., 1., 0., 8., 1., 3., 1., 9., 2., 9., 2., 0., 6., 7., 7.,\n",
       "       1., 7., 7., 3., 6., 4., 8., 9., 1., 3., 1., 1., 1., 6., 9., 7., 7.,\n",
       "       1., 4., 6., 1., 0., 7., 2., 2., 3., 6., 8., 3., 1., 6., 4., 3., 2.,\n",
       "       8., 8., 3., 8., 2., 4., 5., 9., 2., 7., 2., 8., 1., 0., 8., 5., 9.,\n",
       "       7., 7., 0., 8., 5., 7., 3., 6., 2., 0., 7., 0., 7., 1., 7., 1., 0.,\n",
       "       0., 3., 8., 6., 8., 4., 2., 3., 7., 0., 1., 8., 6., 8., 7., 4., 2.,\n",
       "       6., 8., 7., 3., 6., 4., 1., 9., 8., 7., 5., 4., 0., 7., 8., 8., 2.,\n",
       "       1., 3., 1., 9., 9., 8., 4., 9., 9., 3., 1., 5., 9., 6., 5., 9., 1.,\n",
       "       1., 3., 6., 7., 3., 2., 2., 7., 5., 4., 5., 4., 5., 8., 3., 5., 2.,\n",
       "       0., 3., 4., 3., 8., 0., 8., 3., 8., 4., 1., 8., 0., 5., 5., 1., 4.,\n",
       "       9., 3., 6., 9., 9., 5., 6., 7., 1., 1., 0., 8., 4., 7., 5., 1., 9.,\n",
       "       5., 6., 5., 4., 3., 6., 0., 6., 3., 7., 9., 7., 1., 0., 1., 0., 7.,\n",
       "       3., 7., 6., 2., 7., 8., 9., 6., 3., 1., 1., 9., 3., 9., 6., 1., 0.,\n",
       "       2., 2., 7., 2., 6., 5., 0., 0., 5., 4., 6., 0., 9., 4., 4., 0., 9.,\n",
       "       6., 7., 4., 2., 7., 2., 9., 4., 5., 7., 9., 0., 5., 1., 9., 4., 8.,\n",
       "       4., 2., 4., 3., 3., 9., 0., 0., 0., 0., 2., 2., 2., 7., 3., 8., 4.,\n",
       "       4., 6., 7., 3., 6., 0., 6., 8., 2., 0., 6., 1., 9., 0., 3., 3., 9.,\n",
       "       4., 2., 8., 5., 1., 8., 7., 1., 7., 3., 6., 2., 9., 5., 2., 7., 1.,\n",
       "       1., 0., 3., 9., 7., 3., 8., 5., 5., 3., 1., 1., 2., 6., 6., 0., 5.,\n",
       "       7., 7., 4., 2., 4., 0., 0., 7., 3., 5., 7., 3., 6., 3., 3., 8., 5.,\n",
       "       3., 8., 8., 2., 1., 1., 6., 0., 9., 3., 4., 6., 1., 1., 9., 3., 5.,\n",
       "       6., 9., 7., 1., 0., 7., 1., 8., 5., 6., 9., 2., 8., 8., 1., 4., 4.,\n",
       "       9., 7., 5., 9., 0., 4., 4., 5., 6., 9., 2., 3., 4., 4., 4., 0., 9.,\n",
       "       2., 6., 5., 8., 3., 5., 6., 0., 8., 5., 0., 4., 5., 6., 4., 5., 6.,\n",
       "       1., 4., 1., 2., 8., 8., 4., 2., 0., 1., 3., 9., 2., 1., 7., 3., 6.,\n",
       "       0., 1., 8.])"
      ]
     },
     "execution_count": 32,
     "metadata": {},
     "output_type": "execute_result"
    }
   ],
   "source": [
    "%time clf.predict(X_test)"
   ]
  },
  {
   "cell_type": "code",
   "execution_count": 33,
   "metadata": {},
   "outputs": [
    {
     "name": "stdout",
     "output_type": "stream",
     "text": [
      "Wall time: 1min 55s\n"
     ]
    },
    {
     "data": {
      "text/plain": [
       "array([2, 9, 0, 1, 1, 3, 4, 1, 5, 9, 3, 7, 0, 9, 3, 2, 8, 6, 4, 6, 9, 1,\n",
       "       9, 0, 6, 6, 0, 0, 7, 0, 5, 8, 7, 6, 5, 7, 5, 5, 5, 7, 7, 5, 1, 5,\n",
       "       4, 3, 4, 3, 0, 5, 3, 0, 4, 7, 8, 8, 7, 8, 6, 9, 0, 1, 9, 2, 2, 3,\n",
       "       5, 2, 8, 3, 7, 4, 4, 7, 7, 2, 4, 0, 4, 9, 1, 2, 6, 2, 0, 4, 1, 9,\n",
       "       4, 0, 0, 0, 3, 0, 5, 3, 9, 7, 5, 1, 2, 0, 5, 4, 7, 0, 6, 9, 8, 4,\n",
       "       7, 3, 7, 0, 4, 6, 3, 0, 8, 6, 3, 3, 7, 6, 1, 1, 4, 2, 2, 4, 9, 1,\n",
       "       5, 3, 4, 8, 7, 4, 6, 3, 8, 1, 7, 0, 1, 0, 8, 9, 5, 2, 1, 4, 3, 9,\n",
       "       2, 8, 2, 2, 4, 1, 1, 9, 0, 8, 6, 6, 4, 9, 3, 0, 1, 5, 2, 6, 2, 5,\n",
       "       6, 5, 8, 7, 9, 1, 1, 1, 7, 8, 2, 7, 9, 5, 3, 9, 5, 8, 2, 5, 2, 9,\n",
       "       6, 5, 2, 9, 3, 4, 2, 7, 3, 2, 1, 4, 6, 1, 8, 0, 8, 9, 1, 1, 4, 2,\n",
       "       5, 3, 3, 6, 6, 9, 6, 5, 4, 8, 3, 0, 6, 3, 5, 5, 8, 6, 5, 9, 9, 9,\n",
       "       1, 8, 2, 0, 1, 0, 6, 2, 9, 3, 1, 5, 7, 4, 3, 7, 1, 1, 4, 4, 2, 9,\n",
       "       8, 7, 6, 2, 7, 3, 8, 8, 9, 0, 1, 1, 0, 8, 1, 3, 1, 9, 2, 9, 2, 0,\n",
       "       6, 7, 7, 1, 7, 7, 3, 6, 4, 8, 9, 1, 3, 1, 1, 1, 6, 9, 7, 7, 1, 4,\n",
       "       6, 1, 0, 7, 2, 2, 3, 6, 8, 3, 1, 6, 4, 3, 2, 8, 8, 3, 8, 2, 4, 5,\n",
       "       9, 2, 7, 2, 8, 1, 0, 8, 5, 9, 7, 7, 0, 8, 5, 7, 3, 6, 2, 0, 7, 0,\n",
       "       7, 1, 7, 1, 0, 0, 3, 8, 6, 8, 4, 2, 3, 7, 0, 1, 8, 6, 8, 7, 4, 2,\n",
       "       6, 8, 7, 3, 6, 4, 1, 9, 8, 7, 5, 4, 0, 7, 8, 8, 2, 1, 3, 1, 9, 9,\n",
       "       8, 4, 9, 9, 3, 1, 5, 9, 6, 5, 9, 1, 1, 3, 6, 7, 3, 2, 2, 7, 5, 4,\n",
       "       5, 4, 5, 8, 3, 5, 2, 0, 3, 4, 3, 8, 0, 8, 3, 8, 4, 1, 8, 0, 5, 5,\n",
       "       1, 4, 9, 3, 6, 9, 9, 5, 6, 7, 1, 1, 0, 8, 4, 7, 5, 1, 9, 5, 6, 5,\n",
       "       4, 3, 6, 0, 6, 3, 7, 9, 7, 1, 0, 1, 0, 7, 3, 7, 6, 2, 7, 8, 9, 6,\n",
       "       3, 1, 1, 9, 3, 9, 6, 1, 0, 2, 2, 7, 2, 6, 5, 0, 0, 5, 4, 6, 0, 9,\n",
       "       4, 4, 0, 9, 6, 7, 4, 2, 7, 2, 9, 4, 5, 7, 9, 0, 5, 1, 9, 4, 8, 4,\n",
       "       2, 4, 3, 3, 9, 0, 0, 0, 0, 2, 2, 2, 7, 3, 8, 4, 4, 6, 7, 3, 6, 0,\n",
       "       6, 8, 2, 0, 6, 1, 9, 0, 3, 3, 9, 4, 2, 8, 5, 1, 8, 7, 1, 7, 3, 6,\n",
       "       2, 9, 5, 2, 7, 1, 1, 0, 3, 9, 7, 3, 8, 5, 5, 3, 1, 1, 2, 6, 6, 0,\n",
       "       5, 7, 7, 4, 2, 4, 0, 0, 7, 3, 5, 7, 3, 6, 3, 3, 8, 5, 3, 8, 8, 2,\n",
       "       1, 1, 6, 0, 9, 3, 4, 6, 1, 1, 9, 3, 5, 6, 9, 7, 1, 0, 7, 1, 8, 5,\n",
       "       6, 9, 2, 8, 8, 1, 4, 4, 9, 7, 5, 9, 0, 4, 4, 5, 6, 9, 2, 3, 4, 4,\n",
       "       4, 0, 9, 2, 6, 5, 8, 3, 5, 6, 0, 8, 5, 0, 4, 5, 6, 4, 5, 6, 1, 4,\n",
       "       1, 2, 8, 8, 4, 2, 0, 1, 3, 9, 2, 1, 7, 3, 6, 0, 1, 8], dtype=int64)"
      ]
     },
     "execution_count": 33,
     "metadata": {},
     "output_type": "execute_result"
    }
   ],
   "source": [
    "%time my_clf.predict(X_test)"
   ]
  },
  {
   "cell_type": "code",
   "execution_count": 34,
   "metadata": {},
   "outputs": [
    {
     "name": "stdout",
     "output_type": "stream",
     "text": [
      "Wall time: 2min 20s\n"
     ]
    },
    {
     "data": {
      "text/plain": [
       "array([[0., 0., 1., ..., 0., 0., 0.],\n",
       "       [0., 0., 0., ..., 0., 0., 1.],\n",
       "       [1., 0., 0., ..., 0., 0., 0.],\n",
       "       ...,\n",
       "       [1., 0., 0., ..., 0., 0., 0.],\n",
       "       [0., 1., 0., ..., 0., 0., 0.],\n",
       "       [0., 0., 0., ..., 0., 1., 0.]])"
      ]
     },
     "execution_count": 34,
     "metadata": {},
     "output_type": "execute_result"
    }
   ],
   "source": [
    "%time clf.predict_proba(X_test)"
   ]
  },
  {
   "cell_type": "code",
   "execution_count": 35,
   "metadata": {},
   "outputs": [
    {
     "name": "stdout",
     "output_type": "stream",
     "text": [
      "Wall time: 1min 49s\n"
     ]
    },
    {
     "data": {
      "text/plain": [
       "array([[0., 0., 1., ..., 0., 0., 0.],\n",
       "       [0., 0., 0., ..., 0., 0., 1.],\n",
       "       [1., 0., 0., ..., 0., 0., 0.],\n",
       "       ...,\n",
       "       [1., 0., 0., ..., 0., 0., 0.],\n",
       "       [0., 1., 0., ..., 0., 0., 0.],\n",
       "       [0., 0., 0., ..., 0., 1., 0.]])"
      ]
     },
     "execution_count": 35,
     "metadata": {},
     "output_type": "execute_result"
    }
   ],
   "source": [
    "%time my_clf.predict_proba(X_test)"
   ]
  },
  {
   "cell_type": "code",
   "execution_count": 36,
   "metadata": {},
   "outputs": [
    {
     "data": {
      "text/plain": [
       "0.9742857142857143"
      ]
     },
     "execution_count": 36,
     "metadata": {},
     "output_type": "execute_result"
    }
   ],
   "source": [
    "clf.score(X_test, y_test)"
   ]
  },
  {
   "cell_type": "code",
   "execution_count": 37,
   "metadata": {},
   "outputs": [
    {
     "data": {
      "text/plain": [
       "0.9742857142857143"
      ]
     },
     "execution_count": 37,
     "metadata": {},
     "output_type": "execute_result"
    }
   ],
   "source": [
    "my_clf.score(X_test, y_test)"
   ]
  },
  {
   "cell_type": "markdown",
   "metadata": {},
   "source": [
    "Задание 5"
   ]
  },
  {
   "cell_type": "code",
   "execution_count": null,
   "metadata": {
    "scrolled": true
   },
   "outputs": [],
   "source": [
    "# seaborn\n",
    "\"\"\"\n",
    "Библиотека для визуализации данных, основывающаяся на matplotlib\n",
    "\"\"\"\n",
    "# matplotlib\n",
    "\"\"\"\n",
    "Matplotlib - это библиотека 2D-графики Python\n",
    "\"\"\"\n",
    "# train_test_split\n",
    "\"\"\"\n",
    "Разбивает массивы или матрицы на тренировочную и тестовую выборки.\n",
    "\"\"\"\n",
    "# Pipelin%load_ext e (from sklearn.pipeline import Pipeline)\n",
    "\"\"\"\n",
    "Позволяет последовательно выполнять список действий над данными.\n",
    "\"\"\"\n",
    "# StandardScaler (from sklearn.preprocessing import StandardScaler)\n",
    "\"\"\"\n",
    "Приводим все фичи независимо друг от друга к единому виду с помощью вычитания среднего и деления на дисперсию.\n",
    "\"\"\"\n",
    "# ClassifierMixin\n",
    "\"\"\"\n",
    "Сдандартный Mixin класс для всех классификаторов в sklearn.\n",
    "Содержит в себе метод score - показывающий среднее значение точности на выборке.\n",
    "\"\"\"\n",
    "# NeighborsBase\n",
    "\"\"\"\n",
    "Базовый класс для оценок ближайших соседей.\n",
    "\"\"\"\n",
    "# KNeighborsMixin\n",
    "\"\"\"\n",
    "Mixin класс для k-n поисков (содержит методы mro, kneighbors_graph, kneighbors)\n",
    "\"\"\"\n",
    "# SupervisedIntegerMixin\n",
    "\"\"\"\n",
    "Mixin class который предоставляет метод fit(self, X, y != None), который обучает модель используя Х как данные у как значения.\n",
    "\"\"\""
   ]
  }
 ],
 "metadata": {
  "kernelspec": {
   "display_name": "Python 3",
   "language": "python",
   "name": "python3"
  },
  "language_info": {
   "codemirror_mode": {
    "name": "ipython",
    "version": 3
   },
   "file_extension": ".py",
   "mimetype": "text/x-python",
   "name": "python",
   "nbconvert_exporter": "python",
   "pygments_lexer": "ipython3",
   "version": "3.6.5"
  }
 },
 "nbformat": 4,
 "nbformat_minor": 2
}
